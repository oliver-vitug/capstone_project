{
 "cells": [
  {
   "cell_type": "markdown",
   "id": "143f9a8d-1fde-4e5e-8b92-270a5704f851",
   "metadata": {},
   "source": [
    "# <center>Toxic or Tame?<br> Classifying Chat Comments with NLP</center>"
   ]
  },
  {
   "cell_type": "markdown",
   "id": "256f6888-e9f1-443e-ba35-50d771a8e93e",
   "metadata": {
    "tags": []
   },
   "source": [
    "<div style=\"text-align: center;\">\n",
    "  <img src=\"https://plus.unsplash.com/premium_photo-1681487872232-fa622a6dd59e?q=80&w=2080&auto=format&fit=crop&ixlib=rb-4.0.3&ixid=M3wxMjA3fDB8MHxwaG90by1wYWdlfHx8fGVufDB8fHx8fA%3D%3D\" alt=\"A chatbox\" style=\"width: 350px;\">\n",
    "</div>"
   ]
  },
  {
   "cell_type": "markdown",
   "id": "b9c9b9e7-41d1-4980-a107-264272a52915",
   "metadata": {},
   "source": [
    "## Introduction\n",
    "In this project, the aim is to develop a robust system for classifying chat comments as either toxic or non-toxic using Natural Language Processing (NLP) techniques. The widespread use of online communication platforms has created a pressing need to maintain respectful and productive dialogue. Automating the detection of toxic language is intended to enhance user experience and foster healthier online interactions.\n",
    "\n",
    "To achieve this objective, the approach involves leveraging machine learning algorithms and NLP libraries to analyse textual data extracted from chat logs. Initial steps include preprocessing and cleaning the data to address common challenges such as spelling errors, punctuation, and capitalisation inconsistencies. Subsequently, a supervised learning approach will be implemented, training a classification model on labelled datasets. This model will learn to differentiate between toxic and non-toxic comments based on features extracted from the text, such as word frequencies and contextual information. Evaluation metrics will assess the model's performance, ensuring its effectiveness in accurately identifying harmful content. Ultimately, the goal is to contribute to the development of tools that promote safer and more respectful online communities."
   ]
  },
  {
   "cell_type": "markdown",
   "id": "a9e75d5a-75d2-477b-9395-ef08a30431be",
   "metadata": {
    "tags": []
   },
   "source": [
    "## Contents\n",
    "- 1.0 Data importing\n",
    "- 2.0 EDA\n",
    "- 3.0 Preparing data for sentiment analysis\n",
    "- 4.0 Sentiment Analysis\n",
    "- 5.0 Performance Analysis\n",
    "- 6.0 Toxic comment classifier\n",
    "- 7.0 Conclusions and Limitations"
   ]
  },
  {
   "cell_type": "markdown",
   "id": "13fba488-2632-45d2-9646-554b8a23eaf9",
   "metadata": {},
   "source": [
    " "
   ]
  },
  {
   "cell_type": "markdown",
   "id": "241ca601-cf58-425f-a84d-8596bffb2a7d",
   "metadata": {},
   "source": [
    "# 1.0 Data importing"
   ]
  },
  {
   "cell_type": "markdown",
   "id": "a31ba7f2-0f45-4ef4-8341-84e515ed9f64",
   "metadata": {},
   "source": [
    "## 1.1 Data importing and dictionary"
   ]
  },
  {
   "cell_type": "code",
   "execution_count": 8,
   "id": "f82c5cd6-e7d2-4a27-a409-817bcc2d60b4",
   "metadata": {},
   "outputs": [],
   "source": [
    "import pandas as pd\n",
    "import numpy as np\n",
    "import matplotlib.pyplot as plt\n",
    "\n",
    "import os\n",
    "import itertools\n",
    "from collections import Counter\n",
    "import re # allows advance text preprocessing\n",
    "import string # Get a list of puctuation\n",
    "from spellchecker import SpellChecker # Analyses and coorrects typos in texts\n",
    "\n",
    "# Natural laguage Tokenizer\n",
    "import nltk \n",
    "from nltk.corpus import stopwords \n",
    "from nltk.tokenize import word_tokenize\n",
    "from nltk.stem import WordNetLemmatizer\n",
    "from nltk.stem.porter import PorterStemmer\n",
    "from nltk.stem.lancaster import LancasterStemmer\n",
    "from nltk.stem.snowball import SnowballStemmer\n",
    "\n",
    "# Modelling\n",
    "from sklearn.feature_extraction.text import CountVectorizer # Explain latre\n",
    "from sklearn.linear_model import LogisticRegression\n",
    "## Import the metrics we'll be using\n",
    "from sklearn import metrics\n",
    "from sklearn.metrics import accuracy_score, recall_score, precision_score, f1_score # Model metric analysis\n",
    "from sklearn.metrics import confusion_matrix, ConfusionMatrixDisplay\n",
    "\n",
    "# Pre-Trained models\n",
    "from vaderSentiment.vaderSentiment import SentimentIntensityAnalyzer # VADER: import SentimentIntensityAnalyzer class\n",
    "from transformers import BertTokenizer, BertForSequenceClassification # BERT:Bidirectional Encoder Representations from Transformers (pre-trained model)\n",
    "import torch"
   ]
  },
  {
   "cell_type": "markdown",
   "id": "a482d563-45a4-453c-aa8b-aea4b56b95d9",
   "metadata": {},
   "source": [
    "**Note**: \n",
    "Accessing chat logs for all players in games, particularly those with large player bases, is generally restricted due to privacy policies and data protection regulations. Game developers and publishers are very careful about sharing personal data, including chat logs, to comply with privacy laws such as the GDPR (General Data Protection Regulation) in Europe and the CCPA (California Consumer Privacy Act) in the United States. Therefore, we will be using data obtained from the Kaggle competition project \"Toxic Comment Classification Challenge\"."
   ]
  },
  {
   "cell_type": "code",
   "execution_count": null,
   "id": "986ee088-89c2-4fa5-8d3c-1898ff6d335d",
   "metadata": {
    "tags": []
   },
   "outputs": [],
   "source": [
    "# Import data from csv files\n",
    "train = pd.read_csv('train.csv', header=None)\n",
    "train_df = train.copy()\n",
    "train_df.columns = train_df.iloc[0] # Set our column headers\n",
    "train_df = train_df[1:]\n",
    "\n",
    "test_label = pd.read_csv('test_labels.csv', header=None)\n",
    "test_label.columns = test_label.iloc[0]\n",
    "test_label = test_label[1:]\n",
    "\n",
    "test = pd.read_csv('test.csv', header=None)\n",
    "test.columns = test.iloc[0]\n",
    "test = test[1:]"
   ]
  },
  {
   "cell_type": "markdown",
   "id": "274d686e-3d4a-498e-9fcb-12512b37be73",
   "metadata": {
    "tags": []
   },
   "source": [
    "## 1.2 Data Description"
   ]
  },
  {
   "cell_type": "markdown",
   "id": "fbfb785f-7a77-4328-98cc-cc0fceb4c5fa",
   "metadata": {},
   "source": [
    "**id**:<br>\n",
    "A unique identifier for each comment - designated to a specific user.<br>\n",
    "Data Type: String or numeric identifier.\n",
    "\n",
    "**comment_text**:<br>\n",
    "Description: The main content of the comment.<br>\n",
    "Data Type: String.\n",
    "\n",
    "**toxic**:<br>\n",
    "Description: Indicates whether the comment contains toxic content.<br>\n",
    "Data Type: Boolean (1 for toxic, 0 for non-toxic).\n",
    "\n",
    "**severe_toxic**:<br>\n",
    "Description: Indicates whether the comment contains severe toxic content.<br>\n",
    "Data Type: Boolean (1 for severe toxic, 0 for non-severe toxic).\n",
    "\n",
    "**obscene**:<br>\n",
    "Description: Indicates whether the comment is obscene.<br>\n",
    "Data Type: Boolean (1 for obscene, 0 for non-obscene).\n",
    "\n",
    "**threat**:<br>\n",
    "Description: Indicates whether the comment contains threats.<br>\n",
    "Data Type: Boolean (1 for threats present, 0 for no threats).\n",
    "\n",
    "**insult**:<br>\n",
    "Description: Indicates whether the comment is insulting.<br>\n",
    "Data Type: Boolean (1 for insulting, 0 for non-insulting).\n",
    "\n",
    "**identity_hate**:<br>\n",
    "Description: Indicates whether the comment exhibits identity-based hate."
   ]
  },
  {
   "cell_type": "markdown",
   "id": "51f73700-5400-4f17-ae11-2df07549b99e",
   "metadata": {},
   "source": [
    "## 1.3 File descriptions"
   ]
  },
  {
   "cell_type": "markdown",
   "id": "5ce34917-3231-4b46-ba72-c6a82a990daa",
   "metadata": {},
   "source": [
    "**train.csv**:<br>\n",
    "The training set, contains comments with their binary labels\n",
    "\n",
    "**test.csv**:<br>\n",
    "The test set, you must predict the toxicity probabilities for these comments. To deter hand labeling, the test set contains some comments which are not included in scoring.\n",
    "\n",
    "**sample_submission.csv**:<br>\n",
    "A sample submission file in the correct format\n",
    "\n",
    "**test_labels.csv**:<br>\n",
    "Labels for the test data; value of -1 indicates it was not used for scoring; (Note: file added after competition close!)"
   ]
  },
  {
   "cell_type": "markdown",
   "id": "3cea3a5e-89bc-4e0f-bf0f-f5ced29173ad",
   "metadata": {},
   "source": [
    " "
   ]
  },
  {
   "cell_type": "markdown",
   "id": "777c800f-266f-45d2-b312-46e18bcee4b2",
   "metadata": {
    "tags": []
   },
   "source": [
    "# 2.0 EDA"
   ]
  },
  {
   "cell_type": "markdown",
   "id": "7c586863-c1c1-40ad-9f13-b6fc6f686e51",
   "metadata": {
    "tags": []
   },
   "source": [
    "## 2.1 Check for nulls"
   ]
  },
  {
   "cell_type": "code",
   "execution_count": 18,
   "id": "39dc6d24-d37a-483a-97fc-b95f09eac55c",
   "metadata": {
    "tags": []
   },
   "outputs": [
    {
     "name": "stdout",
     "output_type": "stream",
     "text": [
      "<class 'pandas.core.frame.DataFrame'>\n",
      "RangeIndex: 159571 entries, 1 to 159571\n",
      "Data columns (total 8 columns):\n",
      " #   Column         Non-Null Count   Dtype \n",
      "---  ------         --------------   ----- \n",
      " 0   id             159571 non-null  object\n",
      " 1   comment_text   159571 non-null  object\n",
      " 2   toxic          159571 non-null  object\n",
      " 3   severe_toxic   159571 non-null  object\n",
      " 4   obscene        159571 non-null  object\n",
      " 5   threat         159571 non-null  object\n",
      " 6   insult         159571 non-null  object\n",
      " 7   identity_hate  159571 non-null  object\n",
      "dtypes: object(8)\n",
      "memory usage: 9.7+ MB\n"
     ]
    }
   ],
   "source": [
    "# Checking for nulls in train_df\n",
    "train_df.info()"
   ]
  },
  {
   "cell_type": "code",
   "execution_count": 19,
   "id": "d6540586-62e4-4153-a725-a02726b43cb5",
   "metadata": {
    "tags": []
   },
   "outputs": [
    {
     "name": "stdout",
     "output_type": "stream",
     "text": [
      "<class 'pandas.core.frame.DataFrame'>\n",
      "RangeIndex: 153164 entries, 1 to 153164\n",
      "Data columns (total 7 columns):\n",
      " #   Column         Non-Null Count   Dtype \n",
      "---  ------         --------------   ----- \n",
      " 0   id             153164 non-null  object\n",
      " 1   toxic          153164 non-null  object\n",
      " 2   severe_toxic   153164 non-null  object\n",
      " 3   obscene        153164 non-null  object\n",
      " 4   threat         153164 non-null  object\n",
      " 5   insult         153164 non-null  object\n",
      " 6   identity_hate  153164 non-null  object\n",
      "dtypes: object(7)\n",
      "memory usage: 8.2+ MB\n"
     ]
    }
   ],
   "source": [
    "# Checking for nulls in test_label\n",
    "test_label.info()"
   ]
  },
  {
   "cell_type": "code",
   "execution_count": 20,
   "id": "6ccdafc6-bfc5-4515-97f5-c9177ec71e5e",
   "metadata": {
    "tags": []
   },
   "outputs": [
    {
     "name": "stdout",
     "output_type": "stream",
     "text": [
      "<class 'pandas.core.frame.DataFrame'>\n",
      "RangeIndex: 153164 entries, 1 to 153164\n",
      "Data columns (total 2 columns):\n",
      " #   Column        Non-Null Count   Dtype \n",
      "---  ------        --------------   ----- \n",
      " 0   id            153164 non-null  object\n",
      " 1   comment_text  153164 non-null  object\n",
      "dtypes: object(2)\n",
      "memory usage: 2.3+ MB\n"
     ]
    }
   ],
   "source": [
    "# Checking for nulls in test\n",
    "test.info()"
   ]
  },
  {
   "cell_type": "code",
   "execution_count": 21,
   "id": "5870671a-3d0f-40ca-9b5a-3eb1d01e47d3",
   "metadata": {
    "tags": []
   },
   "outputs": [
    {
     "data": {
      "text/plain": [
       "True"
      ]
     },
     "execution_count": 21,
     "metadata": {},
     "output_type": "execute_result"
    }
   ],
   "source": [
    "# Check if test / test_label id's match\n",
    "id_match = test['id'].equals(test_label['id'])\n",
    "id_match"
   ]
  },
  {
   "cell_type": "markdown",
   "id": "48b238c8-f5c1-4650-8822-5cfd2835d164",
   "metadata": {},
   "source": [
    "**Summary**<br>\n",
    "The dataset is devoid of any null values, ensuring completeness and reliability across all its entries. Moreover, every user ID present in the test data is accurately reflected in the corresponding test_labels, reinforcing the integrity and alignment between user identifiers and their associated labels. This consistency underscores the dataset's suitability for robust analysis and dependable predictive modelling."
   ]
  },
  {
   "cell_type": "markdown",
   "id": "514f64ad-f380-446a-9ba2-674260248ad0",
   "metadata": {},
   "source": [
    " "
   ]
  },
  {
   "cell_type": "markdown",
   "id": "5ba60d0a-1d4e-4757-b705-2f914658664b",
   "metadata": {
    "tags": []
   },
   "source": [
    "## 2.3 Removing test data containing -1"
   ]
  },
  {
   "cell_type": "markdown",
   "id": "72b678ab-0ca9-4066-93b3-942c067a1328",
   "metadata": {},
   "source": [
    "**Note** Rows in the testing set that contain -1 represent newly added data without actual target results and therefore should be excluded from analysis. (Refer to Section 1.2, Data Description, for further details.)"
   ]
  },
  {
   "cell_type": "code",
   "execution_count": 26,
   "id": "e4fa2a4b-94df-4f27-9afd-dc2237d027a0",
   "metadata": {
    "tags": []
   },
   "outputs": [],
   "source": [
    "# Setting the id column as the index (since they are all unique to a comment)\n",
    "test = test.set_index('id')\n",
    "test_label = test_label.set_index('id')\n",
    "train_df = train_df.set_index('id') # will also apply to the training set for consistency.\n",
    "test_df = test.join(test_label, how='left')"
   ]
  },
  {
   "cell_type": "markdown",
   "id": "ac7f9ac9-ccf1-441c-b4b2-bb82dbb7c839",
   "metadata": {
    "tags": []
   },
   "source": [
    "**Changing column datatypes**"
   ]
  },
  {
   "cell_type": "code",
   "execution_count": 28,
   "id": "bdedaff1-3eaa-42a6-a19f-973672019458",
   "metadata": {
    "tags": []
   },
   "outputs": [],
   "source": [
    "# Change dtype for training data \n",
    "columns_to_convert = ['toxic', 'severe_toxic', 'obscene', 'threat', 'insult', 'identity_hate']\n",
    "train_df[columns_to_convert] = train_df[columns_to_convert].astype(int)"
   ]
  },
  {
   "cell_type": "code",
   "execution_count": 29,
   "id": "84d12dd8-9bf2-4325-b342-581405215889",
   "metadata": {
    "tags": []
   },
   "outputs": [],
   "source": [
    "# Change dtype for test data \n",
    "test_df[columns_to_convert] = test_df[columns_to_convert].astype(int)"
   ]
  },
  {
   "cell_type": "code",
   "execution_count": 30,
   "id": "62e07dd4-065e-412f-9fe8-a5af059746e0",
   "metadata": {
    "tags": []
   },
   "outputs": [],
   "source": [
    "# Replace -1 with NaN in tetsing set\n",
    "test_df.replace(-1, np.nan, inplace=True)\n",
    "\n",
    "# Drop rows with NaN values in any column\n",
    "test_df = test_df.dropna()"
   ]
  },
  {
   "cell_type": "code",
   "execution_count": 31,
   "id": "2cf5795a-7915-42a8-af69-6b32a056bda6",
   "metadata": {},
   "outputs": [
    {
     "data": {
      "text/plain": [
       "(63978, 7)"
      ]
     },
     "execution_count": 31,
     "metadata": {},
     "output_type": "execute_result"
    }
   ],
   "source": [
    "test_df.shape"
   ]
  },
  {
   "cell_type": "code",
   "execution_count": 32,
   "id": "52c20e07-4f7b-4126-967d-b4097a7188f3",
   "metadata": {},
   "outputs": [
    {
     "name": "stdout",
     "output_type": "stream",
     "text": [
      "<class 'pandas.core.frame.DataFrame'>\n",
      "Index: 63978 entries, 0001ea8717f6de06 to fffb5451268fb5ba\n",
      "Data columns (total 7 columns):\n",
      " #   Column         Non-Null Count  Dtype  \n",
      "---  ------         --------------  -----  \n",
      " 0   comment_text   63978 non-null  object \n",
      " 1   toxic          63978 non-null  float64\n",
      " 2   severe_toxic   63978 non-null  float64\n",
      " 3   obscene        63978 non-null  float64\n",
      " 4   threat         63978 non-null  float64\n",
      " 5   insult         63978 non-null  float64\n",
      " 6   identity_hate  63978 non-null  float64\n",
      "dtypes: float64(6), object(1)\n",
      "memory usage: 3.9+ MB\n"
     ]
    }
   ],
   "source": [
    "test_df.info()"
   ]
  },
  {
   "cell_type": "markdown",
   "id": "c4ed8067-d0ba-4f6c-80e9-0abf79f3356b",
   "metadata": {},
   "source": [
    "**Checking all unique values**"
   ]
  },
  {
   "cell_type": "code",
   "execution_count": 34,
   "id": "f367e997-1a10-418d-af22-219bb964d0a1",
   "metadata": {
    "tags": []
   },
   "outputs": [
    {
     "name": "stdout",
     "output_type": "stream",
     "text": [
      "[0 1]\n"
     ]
    }
   ],
   "source": [
    "# Test: All unique values\n",
    "# Define the columns to check\n",
    "columns_to_check = ['toxic', 'severe_toxic', 'obscene', 'threat', 'insult', 'identity_hate']\n",
    "\n",
    "# Find all unique values in the specified columns\n",
    "unique_values = pd.unique(train_df[columns_to_check].values.ravel())\n",
    "\n",
    "# Print the unique values\n",
    "print(unique_values)"
   ]
  },
  {
   "cell_type": "code",
   "execution_count": 35,
   "id": "7850d3b7-ae54-4132-a8f4-ba1d9d55c325",
   "metadata": {
    "tags": []
   },
   "outputs": [
    {
     "name": "stdout",
     "output_type": "stream",
     "text": [
      "[0. 1.]\n"
     ]
    }
   ],
   "source": [
    "# Train: All unique values\n",
    "# Define the columns to check\n",
    "columns_to_check = ['toxic', 'severe_toxic', 'obscene', 'threat', 'insult', 'identity_hate']\n",
    "\n",
    "# Find all unique values in the specified columns\n",
    "unique_values = pd.unique(test_df[columns_to_check].values.ravel())\n",
    "\n",
    "# Print the unique values\n",
    "print(unique_values)"
   ]
  },
  {
   "cell_type": "markdown",
   "id": "a6f31d33-274c-4e40-be38-b11a26dea20c",
   "metadata": {},
   "source": [
    "**Note:** We can now confirm that there are no unexpected values and that all values are boolean (1/0)."
   ]
  },
  {
   "cell_type": "markdown",
   "id": "c871be68-6d15-4f8d-b1d7-bc5e7d53b229",
   "metadata": {},
   "source": [
    " "
   ]
  },
  {
   "cell_type": "markdown",
   "id": "a28e6140-dce2-4507-9c3a-f027e54629dc",
   "metadata": {},
   "source": [
    "## 2.4 Combining boolean columns to a single target column"
   ]
  },
  {
   "cell_type": "code",
   "execution_count": 39,
   "id": "f15ad4ee-50ca-4c92-b1a9-040663939c8d",
   "metadata": {},
   "outputs": [
    {
     "data": {
      "text/html": [
       "<div>\n",
       "<style scoped>\n",
       "    .dataframe tbody tr th:only-of-type {\n",
       "        vertical-align: middle;\n",
       "    }\n",
       "\n",
       "    .dataframe tbody tr th {\n",
       "        vertical-align: top;\n",
       "    }\n",
       "\n",
       "    .dataframe thead th {\n",
       "        text-align: right;\n",
       "    }\n",
       "</style>\n",
       "<table border=\"1\" class=\"dataframe\">\n",
       "  <thead>\n",
       "    <tr style=\"text-align: right;\">\n",
       "      <th></th>\n",
       "      <th>comment_text</th>\n",
       "      <th>toxic</th>\n",
       "      <th>severe_toxic</th>\n",
       "      <th>obscene</th>\n",
       "      <th>threat</th>\n",
       "      <th>insult</th>\n",
       "      <th>identity_hate</th>\n",
       "    </tr>\n",
       "    <tr>\n",
       "      <th>id</th>\n",
       "      <th></th>\n",
       "      <th></th>\n",
       "      <th></th>\n",
       "      <th></th>\n",
       "      <th></th>\n",
       "      <th></th>\n",
       "      <th></th>\n",
       "    </tr>\n",
       "  </thead>\n",
       "  <tbody>\n",
       "    <tr>\n",
       "      <th>0000997932d777bf</th>\n",
       "      <td>Explanation\\nWhy the edits made under my usern...</td>\n",
       "      <td>0</td>\n",
       "      <td>0</td>\n",
       "      <td>0</td>\n",
       "      <td>0</td>\n",
       "      <td>0</td>\n",
       "      <td>0</td>\n",
       "    </tr>\n",
       "    <tr>\n",
       "      <th>000103f0d9cfb60f</th>\n",
       "      <td>D'aww! He matches this background colour I'm s...</td>\n",
       "      <td>0</td>\n",
       "      <td>0</td>\n",
       "      <td>0</td>\n",
       "      <td>0</td>\n",
       "      <td>0</td>\n",
       "      <td>0</td>\n",
       "    </tr>\n",
       "    <tr>\n",
       "      <th>000113f07ec002fd</th>\n",
       "      <td>Hey man, I'm really not trying to edit war. It...</td>\n",
       "      <td>0</td>\n",
       "      <td>0</td>\n",
       "      <td>0</td>\n",
       "      <td>0</td>\n",
       "      <td>0</td>\n",
       "      <td>0</td>\n",
       "    </tr>\n",
       "    <tr>\n",
       "      <th>0001b41b1c6bb37e</th>\n",
       "      <td>\"\\nMore\\nI can't make any real suggestions on ...</td>\n",
       "      <td>0</td>\n",
       "      <td>0</td>\n",
       "      <td>0</td>\n",
       "      <td>0</td>\n",
       "      <td>0</td>\n",
       "      <td>0</td>\n",
       "    </tr>\n",
       "    <tr>\n",
       "      <th>0001d958c54c6e35</th>\n",
       "      <td>You, sir, are my hero. Any chance you remember...</td>\n",
       "      <td>0</td>\n",
       "      <td>0</td>\n",
       "      <td>0</td>\n",
       "      <td>0</td>\n",
       "      <td>0</td>\n",
       "      <td>0</td>\n",
       "    </tr>\n",
       "  </tbody>\n",
       "</table>\n",
       "</div>"
      ],
      "text/plain": [
       "0                                                      comment_text  toxic  \\\n",
       "id                                                                           \n",
       "0000997932d777bf  Explanation\\nWhy the edits made under my usern...      0   \n",
       "000103f0d9cfb60f  D'aww! He matches this background colour I'm s...      0   \n",
       "000113f07ec002fd  Hey man, I'm really not trying to edit war. It...      0   \n",
       "0001b41b1c6bb37e  \"\\nMore\\nI can't make any real suggestions on ...      0   \n",
       "0001d958c54c6e35  You, sir, are my hero. Any chance you remember...      0   \n",
       "\n",
       "0                 severe_toxic  obscene  threat  insult  identity_hate  \n",
       "id                                                                      \n",
       "0000997932d777bf             0        0       0       0              0  \n",
       "000103f0d9cfb60f             0        0       0       0              0  \n",
       "000113f07ec002fd             0        0       0       0              0  \n",
       "0001b41b1c6bb37e             0        0       0       0              0  \n",
       "0001d958c54c6e35             0        0       0       0              0  "
      ]
     },
     "execution_count": 39,
     "metadata": {},
     "output_type": "execute_result"
    }
   ],
   "source": [
    "train_df.head(5)"
   ]
  },
  {
   "cell_type": "code",
   "execution_count": 40,
   "id": "296f4008-2d58-4f0f-a91a-716aa5fc3f7f",
   "metadata": {},
   "outputs": [
    {
     "data": {
      "text/html": [
       "<div>\n",
       "<style scoped>\n",
       "    .dataframe tbody tr th:only-of-type {\n",
       "        vertical-align: middle;\n",
       "    }\n",
       "\n",
       "    .dataframe tbody tr th {\n",
       "        vertical-align: top;\n",
       "    }\n",
       "\n",
       "    .dataframe thead th {\n",
       "        text-align: right;\n",
       "    }\n",
       "</style>\n",
       "<table border=\"1\" class=\"dataframe\">\n",
       "  <thead>\n",
       "    <tr style=\"text-align: right;\">\n",
       "      <th></th>\n",
       "      <th>comment_text</th>\n",
       "      <th>toxic</th>\n",
       "      <th>severe_toxic</th>\n",
       "      <th>obscene</th>\n",
       "      <th>threat</th>\n",
       "      <th>insult</th>\n",
       "      <th>identity_hate</th>\n",
       "    </tr>\n",
       "    <tr>\n",
       "      <th>id</th>\n",
       "      <th></th>\n",
       "      <th></th>\n",
       "      <th></th>\n",
       "      <th></th>\n",
       "      <th></th>\n",
       "      <th></th>\n",
       "      <th></th>\n",
       "    </tr>\n",
       "  </thead>\n",
       "  <tbody>\n",
       "    <tr>\n",
       "      <th>0001ea8717f6de06</th>\n",
       "      <td>Thank you for understanding. I think very high...</td>\n",
       "      <td>0.0</td>\n",
       "      <td>0.0</td>\n",
       "      <td>0.0</td>\n",
       "      <td>0.0</td>\n",
       "      <td>0.0</td>\n",
       "      <td>0.0</td>\n",
       "    </tr>\n",
       "    <tr>\n",
       "      <th>000247e83dcc1211</th>\n",
       "      <td>:Dear god this site is horrible.</td>\n",
       "      <td>0.0</td>\n",
       "      <td>0.0</td>\n",
       "      <td>0.0</td>\n",
       "      <td>0.0</td>\n",
       "      <td>0.0</td>\n",
       "      <td>0.0</td>\n",
       "    </tr>\n",
       "    <tr>\n",
       "      <th>0002f87b16116a7f</th>\n",
       "      <td>\"::: Somebody will invariably try to add Relig...</td>\n",
       "      <td>0.0</td>\n",
       "      <td>0.0</td>\n",
       "      <td>0.0</td>\n",
       "      <td>0.0</td>\n",
       "      <td>0.0</td>\n",
       "      <td>0.0</td>\n",
       "    </tr>\n",
       "    <tr>\n",
       "      <th>0003e1cccfd5a40a</th>\n",
       "      <td>\" \\n\\n It says it right there that it IS a typ...</td>\n",
       "      <td>0.0</td>\n",
       "      <td>0.0</td>\n",
       "      <td>0.0</td>\n",
       "      <td>0.0</td>\n",
       "      <td>0.0</td>\n",
       "      <td>0.0</td>\n",
       "    </tr>\n",
       "    <tr>\n",
       "      <th>00059ace3e3e9a53</th>\n",
       "      <td>\" \\n\\n == Before adding a new product to the l...</td>\n",
       "      <td>0.0</td>\n",
       "      <td>0.0</td>\n",
       "      <td>0.0</td>\n",
       "      <td>0.0</td>\n",
       "      <td>0.0</td>\n",
       "      <td>0.0</td>\n",
       "    </tr>\n",
       "  </tbody>\n",
       "</table>\n",
       "</div>"
      ],
      "text/plain": [
       "0                                                      comment_text  toxic  \\\n",
       "id                                                                           \n",
       "0001ea8717f6de06  Thank you for understanding. I think very high...    0.0   \n",
       "000247e83dcc1211                   :Dear god this site is horrible.    0.0   \n",
       "0002f87b16116a7f  \"::: Somebody will invariably try to add Relig...    0.0   \n",
       "0003e1cccfd5a40a  \" \\n\\n It says it right there that it IS a typ...    0.0   \n",
       "00059ace3e3e9a53  \" \\n\\n == Before adding a new product to the l...    0.0   \n",
       "\n",
       "0                 severe_toxic  obscene  threat  insult  identity_hate  \n",
       "id                                                                      \n",
       "0001ea8717f6de06           0.0      0.0     0.0     0.0            0.0  \n",
       "000247e83dcc1211           0.0      0.0     0.0     0.0            0.0  \n",
       "0002f87b16116a7f           0.0      0.0     0.0     0.0            0.0  \n",
       "0003e1cccfd5a40a           0.0      0.0     0.0     0.0            0.0  \n",
       "00059ace3e3e9a53           0.0      0.0     0.0     0.0            0.0  "
      ]
     },
     "execution_count": 40,
     "metadata": {},
     "output_type": "execute_result"
    }
   ],
   "source": [
    "test_df.head(5)"
   ]
  },
  {
   "cell_type": "code",
   "execution_count": 41,
   "id": "9d31f6cf-f8c0-4824-ba84-a4a6b49b3601",
   "metadata": {
    "tags": []
   },
   "outputs": [],
   "source": [
    "# Create a function that combines all target columns into a single column\n",
    "def add_indicator_column(df, new_col_name, remove_original_cols=True):\n",
    "    columns_to_check = ['toxic', 'severe_toxic', 'obscene', 'threat', 'insult', 'identity_hate']\n",
    "    \"\"\"\n",
    "    Add a new column to the DataFrame based on a condition:\n",
    "    If all specified columns in a row are zero, the new column will have a value of 0.\n",
    "    Otherwise, the new column will have a value of 1.\n",
    "    Optionally, remove the original columns used to create the new column.\n",
    "\n",
    "    Parameters\n",
    "    ----------\n",
    "    df : pandas.DataFrame\n",
    "        The input DataFrame.\n",
    "    columns_to_check : list of str\n",
    "        List of column names to check.\n",
    "    new_col_name : str\n",
    "        The name of the new column to add.\n",
    "    remove_original_cols : bool, optional (default=True)\n",
    "        Whether to remove the original columns after creating the new column.\n",
    "\n",
    "    Returns\n",
    "    -------\n",
    "    pandas.DataFrame\n",
    "        The DataFrame with the new column added and optionally with original columns removed.\n",
    "    \"\"\"\n",
    "    df[new_col_name] = df[columns_to_check].apply(lambda row: 0 if (row == 0).all() else 1, axis=1)\n",
    "    \n",
    "    if remove_original_cols:\n",
    "        df.drop(columns=columns_to_check, inplace=True)\n",
    "    \n",
    "    return df"
   ]
  },
  {
   "cell_type": "code",
   "execution_count": 42,
   "id": "a2cf4a19-2ea5-4c68-a806-3de28fcb48c4",
   "metadata": {
    "tags": []
   },
   "outputs": [
    {
     "data": {
      "text/html": [
       "<div>\n",
       "<style scoped>\n",
       "    .dataframe tbody tr th:only-of-type {\n",
       "        vertical-align: middle;\n",
       "    }\n",
       "\n",
       "    .dataframe tbody tr th {\n",
       "        vertical-align: top;\n",
       "    }\n",
       "\n",
       "    .dataframe thead th {\n",
       "        text-align: right;\n",
       "    }\n",
       "</style>\n",
       "<table border=\"1\" class=\"dataframe\">\n",
       "  <thead>\n",
       "    <tr style=\"text-align: right;\">\n",
       "      <th></th>\n",
       "      <th>comment_text</th>\n",
       "      <th>review_comment</th>\n",
       "    </tr>\n",
       "    <tr>\n",
       "      <th>id</th>\n",
       "      <th></th>\n",
       "      <th></th>\n",
       "    </tr>\n",
       "  </thead>\n",
       "  <tbody>\n",
       "    <tr>\n",
       "      <th>0000997932d777bf</th>\n",
       "      <td>Explanation\\nWhy the edits made under my usern...</td>\n",
       "      <td>0</td>\n",
       "    </tr>\n",
       "    <tr>\n",
       "      <th>000103f0d9cfb60f</th>\n",
       "      <td>D'aww! He matches this background colour I'm s...</td>\n",
       "      <td>0</td>\n",
       "    </tr>\n",
       "    <tr>\n",
       "      <th>000113f07ec002fd</th>\n",
       "      <td>Hey man, I'm really not trying to edit war. It...</td>\n",
       "      <td>0</td>\n",
       "    </tr>\n",
       "    <tr>\n",
       "      <th>0001b41b1c6bb37e</th>\n",
       "      <td>\"\\nMore\\nI can't make any real suggestions on ...</td>\n",
       "      <td>0</td>\n",
       "    </tr>\n",
       "    <tr>\n",
       "      <th>0001d958c54c6e35</th>\n",
       "      <td>You, sir, are my hero. Any chance you remember...</td>\n",
       "      <td>0</td>\n",
       "    </tr>\n",
       "    <tr>\n",
       "      <th>...</th>\n",
       "      <td>...</td>\n",
       "      <td>...</td>\n",
       "    </tr>\n",
       "    <tr>\n",
       "      <th>ffe987279560d7ff</th>\n",
       "      <td>\":::::And for the second time of asking, when ...</td>\n",
       "      <td>0</td>\n",
       "    </tr>\n",
       "    <tr>\n",
       "      <th>ffea4adeee384e90</th>\n",
       "      <td>You should be ashamed of yourself \\n\\nThat is ...</td>\n",
       "      <td>0</td>\n",
       "    </tr>\n",
       "    <tr>\n",
       "      <th>ffee36eab5c267c9</th>\n",
       "      <td>Spitzer \\n\\nUmm, theres no actual article for ...</td>\n",
       "      <td>0</td>\n",
       "    </tr>\n",
       "    <tr>\n",
       "      <th>fff125370e4aaaf3</th>\n",
       "      <td>And it looks like it was actually you who put ...</td>\n",
       "      <td>0</td>\n",
       "    </tr>\n",
       "    <tr>\n",
       "      <th>fff46fc426af1f9a</th>\n",
       "      <td>\"\\nAnd ... I really don't think you understand...</td>\n",
       "      <td>0</td>\n",
       "    </tr>\n",
       "  </tbody>\n",
       "</table>\n",
       "<p>159571 rows × 2 columns</p>\n",
       "</div>"
      ],
      "text/plain": [
       "0                                                      comment_text  \\\n",
       "id                                                                    \n",
       "0000997932d777bf  Explanation\\nWhy the edits made under my usern...   \n",
       "000103f0d9cfb60f  D'aww! He matches this background colour I'm s...   \n",
       "000113f07ec002fd  Hey man, I'm really not trying to edit war. It...   \n",
       "0001b41b1c6bb37e  \"\\nMore\\nI can't make any real suggestions on ...   \n",
       "0001d958c54c6e35  You, sir, are my hero. Any chance you remember...   \n",
       "...                                                             ...   \n",
       "ffe987279560d7ff  \":::::And for the second time of asking, when ...   \n",
       "ffea4adeee384e90  You should be ashamed of yourself \\n\\nThat is ...   \n",
       "ffee36eab5c267c9  Spitzer \\n\\nUmm, theres no actual article for ...   \n",
       "fff125370e4aaaf3  And it looks like it was actually you who put ...   \n",
       "fff46fc426af1f9a  \"\\nAnd ... I really don't think you understand...   \n",
       "\n",
       "0                 review_comment  \n",
       "id                                \n",
       "0000997932d777bf               0  \n",
       "000103f0d9cfb60f               0  \n",
       "000113f07ec002fd               0  \n",
       "0001b41b1c6bb37e               0  \n",
       "0001d958c54c6e35               0  \n",
       "...                          ...  \n",
       "ffe987279560d7ff               0  \n",
       "ffea4adeee384e90               0  \n",
       "ffee36eab5c267c9               0  \n",
       "fff125370e4aaaf3               0  \n",
       "fff46fc426af1f9a               0  \n",
       "\n",
       "[159571 rows x 2 columns]"
      ]
     },
     "execution_count": 42,
     "metadata": {},
     "output_type": "execute_result"
    }
   ],
   "source": [
    "# Apply function to training data\n",
    "add_indicator_column(train_df, \"review_comment\")"
   ]
  },
  {
   "cell_type": "code",
   "execution_count": 43,
   "id": "48931fd8-6563-44ab-be1f-512a85449e0c",
   "metadata": {
    "tags": []
   },
   "outputs": [
    {
     "data": {
      "text/html": [
       "<div>\n",
       "<style scoped>\n",
       "    .dataframe tbody tr th:only-of-type {\n",
       "        vertical-align: middle;\n",
       "    }\n",
       "\n",
       "    .dataframe tbody tr th {\n",
       "        vertical-align: top;\n",
       "    }\n",
       "\n",
       "    .dataframe thead th {\n",
       "        text-align: right;\n",
       "    }\n",
       "</style>\n",
       "<table border=\"1\" class=\"dataframe\">\n",
       "  <thead>\n",
       "    <tr style=\"text-align: right;\">\n",
       "      <th></th>\n",
       "      <th>comment_text</th>\n",
       "      <th>review_comment</th>\n",
       "    </tr>\n",
       "    <tr>\n",
       "      <th>id</th>\n",
       "      <th></th>\n",
       "      <th></th>\n",
       "    </tr>\n",
       "  </thead>\n",
       "  <tbody>\n",
       "    <tr>\n",
       "      <th>0001ea8717f6de06</th>\n",
       "      <td>Thank you for understanding. I think very high...</td>\n",
       "      <td>0</td>\n",
       "    </tr>\n",
       "    <tr>\n",
       "      <th>000247e83dcc1211</th>\n",
       "      <td>:Dear god this site is horrible.</td>\n",
       "      <td>0</td>\n",
       "    </tr>\n",
       "    <tr>\n",
       "      <th>0002f87b16116a7f</th>\n",
       "      <td>\"::: Somebody will invariably try to add Relig...</td>\n",
       "      <td>0</td>\n",
       "    </tr>\n",
       "    <tr>\n",
       "      <th>0003e1cccfd5a40a</th>\n",
       "      <td>\" \\n\\n It says it right there that it IS a typ...</td>\n",
       "      <td>0</td>\n",
       "    </tr>\n",
       "    <tr>\n",
       "      <th>00059ace3e3e9a53</th>\n",
       "      <td>\" \\n\\n == Before adding a new product to the l...</td>\n",
       "      <td>0</td>\n",
       "    </tr>\n",
       "    <tr>\n",
       "      <th>...</th>\n",
       "      <td>...</td>\n",
       "      <td>...</td>\n",
       "    </tr>\n",
       "    <tr>\n",
       "      <th>fff8f64043129fa2</th>\n",
       "      <td>:Jerome, I see you never got around to this…! ...</td>\n",
       "      <td>0</td>\n",
       "    </tr>\n",
       "    <tr>\n",
       "      <th>fff9d70fe0722906</th>\n",
       "      <td>==Lucky bastard== \\n http://wikimediafoundatio...</td>\n",
       "      <td>0</td>\n",
       "    </tr>\n",
       "    <tr>\n",
       "      <th>fffa8a11c4378854</th>\n",
       "      <td>==shame on you all!!!== \\n\\n You want to speak...</td>\n",
       "      <td>0</td>\n",
       "    </tr>\n",
       "    <tr>\n",
       "      <th>fffac2a094c8e0e2</th>\n",
       "      <td>MEL GIBSON IS A NAZI BITCH WHO MAKES SHITTY MO...</td>\n",
       "      <td>1</td>\n",
       "    </tr>\n",
       "    <tr>\n",
       "      <th>fffb5451268fb5ba</th>\n",
       "      <td>\" \\n\\n == Unicorn lair discovery == \\n\\n Suppo...</td>\n",
       "      <td>0</td>\n",
       "    </tr>\n",
       "  </tbody>\n",
       "</table>\n",
       "<p>63978 rows × 2 columns</p>\n",
       "</div>"
      ],
      "text/plain": [
       "0                                                      comment_text  \\\n",
       "id                                                                    \n",
       "0001ea8717f6de06  Thank you for understanding. I think very high...   \n",
       "000247e83dcc1211                   :Dear god this site is horrible.   \n",
       "0002f87b16116a7f  \"::: Somebody will invariably try to add Relig...   \n",
       "0003e1cccfd5a40a  \" \\n\\n It says it right there that it IS a typ...   \n",
       "00059ace3e3e9a53  \" \\n\\n == Before adding a new product to the l...   \n",
       "...                                                             ...   \n",
       "fff8f64043129fa2  :Jerome, I see you never got around to this…! ...   \n",
       "fff9d70fe0722906  ==Lucky bastard== \\n http://wikimediafoundatio...   \n",
       "fffa8a11c4378854  ==shame on you all!!!== \\n\\n You want to speak...   \n",
       "fffac2a094c8e0e2  MEL GIBSON IS A NAZI BITCH WHO MAKES SHITTY MO...   \n",
       "fffb5451268fb5ba  \" \\n\\n == Unicorn lair discovery == \\n\\n Suppo...   \n",
       "\n",
       "0                 review_comment  \n",
       "id                                \n",
       "0001ea8717f6de06               0  \n",
       "000247e83dcc1211               0  \n",
       "0002f87b16116a7f               0  \n",
       "0003e1cccfd5a40a               0  \n",
       "00059ace3e3e9a53               0  \n",
       "...                          ...  \n",
       "fff8f64043129fa2               0  \n",
       "fff9d70fe0722906               0  \n",
       "fffa8a11c4378854               0  \n",
       "fffac2a094c8e0e2               1  \n",
       "fffb5451268fb5ba               0  \n",
       "\n",
       "[63978 rows x 2 columns]"
      ]
     },
     "execution_count": 43,
     "metadata": {},
     "output_type": "execute_result"
    }
   ],
   "source": [
    "# Apply function to Testing data\n",
    "add_indicator_column(test_df, \"review_comment\")"
   ]
  },
  {
   "cell_type": "code",
   "execution_count": 44,
   "id": "07749ef1-9e14-4212-b17d-a57d289a4298",
   "metadata": {
    "tags": []
   },
   "outputs": [
    {
     "data": {
      "text/html": [
       "<div>\n",
       "<style scoped>\n",
       "    .dataframe tbody tr th:only-of-type {\n",
       "        vertical-align: middle;\n",
       "    }\n",
       "\n",
       "    .dataframe tbody tr th {\n",
       "        vertical-align: top;\n",
       "    }\n",
       "\n",
       "    .dataframe thead th {\n",
       "        text-align: right;\n",
       "    }\n",
       "</style>\n",
       "<table border=\"1\" class=\"dataframe\">\n",
       "  <thead>\n",
       "    <tr style=\"text-align: right;\">\n",
       "      <th></th>\n",
       "      <th>comment_text</th>\n",
       "      <th>review_comment</th>\n",
       "    </tr>\n",
       "    <tr>\n",
       "      <th>id</th>\n",
       "      <th></th>\n",
       "      <th></th>\n",
       "    </tr>\n",
       "  </thead>\n",
       "  <tbody>\n",
       "    <tr>\n",
       "      <th>0000997932d777bf</th>\n",
       "      <td>Explanation\\nWhy the edits made under my usern...</td>\n",
       "      <td>0</td>\n",
       "    </tr>\n",
       "    <tr>\n",
       "      <th>000103f0d9cfb60f</th>\n",
       "      <td>D'aww! He matches this background colour I'm s...</td>\n",
       "      <td>0</td>\n",
       "    </tr>\n",
       "    <tr>\n",
       "      <th>000113f07ec002fd</th>\n",
       "      <td>Hey man, I'm really not trying to edit war. It...</td>\n",
       "      <td>0</td>\n",
       "    </tr>\n",
       "    <tr>\n",
       "      <th>0001b41b1c6bb37e</th>\n",
       "      <td>\"\\nMore\\nI can't make any real suggestions on ...</td>\n",
       "      <td>0</td>\n",
       "    </tr>\n",
       "    <tr>\n",
       "      <th>0001d958c54c6e35</th>\n",
       "      <td>You, sir, are my hero. Any chance you remember...</td>\n",
       "      <td>0</td>\n",
       "    </tr>\n",
       "  </tbody>\n",
       "</table>\n",
       "</div>"
      ],
      "text/plain": [
       "0                                                      comment_text  \\\n",
       "id                                                                    \n",
       "0000997932d777bf  Explanation\\nWhy the edits made under my usern...   \n",
       "000103f0d9cfb60f  D'aww! He matches this background colour I'm s...   \n",
       "000113f07ec002fd  Hey man, I'm really not trying to edit war. It...   \n",
       "0001b41b1c6bb37e  \"\\nMore\\nI can't make any real suggestions on ...   \n",
       "0001d958c54c6e35  You, sir, are my hero. Any chance you remember...   \n",
       "\n",
       "0                 review_comment  \n",
       "id                                \n",
       "0000997932d777bf               0  \n",
       "000103f0d9cfb60f               0  \n",
       "000113f07ec002fd               0  \n",
       "0001b41b1c6bb37e               0  \n",
       "0001d958c54c6e35               0  "
      ]
     },
     "execution_count": 44,
     "metadata": {},
     "output_type": "execute_result"
    }
   ],
   "source": [
    "train_df.head()"
   ]
  },
  {
   "cell_type": "code",
   "execution_count": 45,
   "id": "175d407a-d83b-42fa-8818-e0318509751a",
   "metadata": {
    "tags": []
   },
   "outputs": [
    {
     "data": {
      "text/html": [
       "<div>\n",
       "<style scoped>\n",
       "    .dataframe tbody tr th:only-of-type {\n",
       "        vertical-align: middle;\n",
       "    }\n",
       "\n",
       "    .dataframe tbody tr th {\n",
       "        vertical-align: top;\n",
       "    }\n",
       "\n",
       "    .dataframe thead th {\n",
       "        text-align: right;\n",
       "    }\n",
       "</style>\n",
       "<table border=\"1\" class=\"dataframe\">\n",
       "  <thead>\n",
       "    <tr style=\"text-align: right;\">\n",
       "      <th></th>\n",
       "      <th>comment_text</th>\n",
       "      <th>review_comment</th>\n",
       "    </tr>\n",
       "    <tr>\n",
       "      <th>id</th>\n",
       "      <th></th>\n",
       "      <th></th>\n",
       "    </tr>\n",
       "  </thead>\n",
       "  <tbody>\n",
       "    <tr>\n",
       "      <th>0001ea8717f6de06</th>\n",
       "      <td>Thank you for understanding. I think very high...</td>\n",
       "      <td>0</td>\n",
       "    </tr>\n",
       "    <tr>\n",
       "      <th>000247e83dcc1211</th>\n",
       "      <td>:Dear god this site is horrible.</td>\n",
       "      <td>0</td>\n",
       "    </tr>\n",
       "    <tr>\n",
       "      <th>0002f87b16116a7f</th>\n",
       "      <td>\"::: Somebody will invariably try to add Relig...</td>\n",
       "      <td>0</td>\n",
       "    </tr>\n",
       "    <tr>\n",
       "      <th>0003e1cccfd5a40a</th>\n",
       "      <td>\" \\n\\n It says it right there that it IS a typ...</td>\n",
       "      <td>0</td>\n",
       "    </tr>\n",
       "    <tr>\n",
       "      <th>00059ace3e3e9a53</th>\n",
       "      <td>\" \\n\\n == Before adding a new product to the l...</td>\n",
       "      <td>0</td>\n",
       "    </tr>\n",
       "  </tbody>\n",
       "</table>\n",
       "</div>"
      ],
      "text/plain": [
       "0                                                      comment_text  \\\n",
       "id                                                                    \n",
       "0001ea8717f6de06  Thank you for understanding. I think very high...   \n",
       "000247e83dcc1211                   :Dear god this site is horrible.   \n",
       "0002f87b16116a7f  \"::: Somebody will invariably try to add Relig...   \n",
       "0003e1cccfd5a40a  \" \\n\\n It says it right there that it IS a typ...   \n",
       "00059ace3e3e9a53  \" \\n\\n == Before adding a new product to the l...   \n",
       "\n",
       "0                 review_comment  \n",
       "id                                \n",
       "0001ea8717f6de06               0  \n",
       "000247e83dcc1211               0  \n",
       "0002f87b16116a7f               0  \n",
       "0003e1cccfd5a40a               0  \n",
       "00059ace3e3e9a53               0  "
      ]
     },
     "execution_count": 45,
     "metadata": {},
     "output_type": "execute_result"
    }
   ],
   "source": [
    "test_df.head()"
   ]
  },
  {
   "cell_type": "markdown",
   "id": "2acfd83f-5bc9-422c-8a17-2cc02213a973",
   "metadata": {},
   "source": [
    " "
   ]
  },
  {
   "cell_type": "markdown",
   "id": "04d7ec17-fbc6-4d17-af86-c78f6a5e7d8f",
   "metadata": {
    "tags": []
   },
   "source": [
    "## 2.5 Investiating class balance"
   ]
  },
  {
   "cell_type": "code",
   "execution_count": 48,
   "id": "a374d5f0-eede-4c57-87bf-47bdff0efe1d",
   "metadata": {
    "tags": []
   },
   "outputs": [
    {
     "data": {
      "text/plain": [
       "review_comment\n",
       "0    143346\n",
       "1     16225\n",
       "Name: count, dtype: int64"
      ]
     },
     "execution_count": 48,
     "metadata": {},
     "output_type": "execute_result"
    }
   ],
   "source": [
    "# Number of obervations of true / false results\n",
    "train_df['review_comment'].value_counts()"
   ]
  },
  {
   "cell_type": "code",
   "execution_count": 49,
   "id": "d1e8db50-f60f-4931-8f8a-899578064aaf",
   "metadata": {
    "tags": []
   },
   "outputs": [
    {
     "data": {
      "text/plain": [
       "review_comment\n",
       "0    0.898321\n",
       "1    0.101679\n",
       "Name: proportion, dtype: float64"
      ]
     },
     "execution_count": 49,
     "metadata": {},
     "output_type": "execute_result"
    }
   ],
   "source": [
    "# proportion of obervations of true / false results\n",
    "train_df['review_comment'].value_counts(normalize = True)"
   ]
  },
  {
   "cell_type": "code",
   "execution_count": 50,
   "id": "8a668e44-6dee-4f77-b77f-a7840689cd3f",
   "metadata": {
    "tags": []
   },
   "outputs": [
    {
     "data": {
      "text/plain": [
       "(159571, 2)"
      ]
     },
     "execution_count": 50,
     "metadata": {},
     "output_type": "execute_result"
    }
   ],
   "source": [
    "train_df.shape"
   ]
  },
  {
   "cell_type": "code",
   "execution_count": 51,
   "id": "8720424d-50a2-43d8-a0dc-b48aa28576ab",
   "metadata": {
    "tags": []
   },
   "outputs": [
    {
     "data": {
      "image/png": "[encoded data removed]",
      "text/plain": [
       "<Figure size 800x600 with 1 Axes>"
      ]
     },
     "metadata": {},
     "output_type": "display_data"
    }
   ],
   "source": [
    "# Count the values\n",
    "value_counts = train_df['review_comment'].value_counts()\n",
    "\n",
    "# Plotting the bar chart\n",
    "plt.figure(figsize=(8, 6))\n",
    "value_counts.plot(kind='bar', color=['skyblue', 'salmon'])\n",
    "plt.title('Distribution of target column (Training set)')\n",
    "plt.xlabel('Review Comment')\n",
    "plt.ylabel('Count')\n",
    "plt.xticks(rotation=0)\n",
    "plt.show()"
   ]
  },
  {
   "cell_type": "markdown",
   "id": "0883ac25-cb07-43b8-9222-a232677f1490",
   "metadata": {},
   "source": [
    "**Note:** The count of false (0) results exceeds that of true (1) results by ninefold. Hence, we will need to undersample the false results to achieve 16225 observations, aligning with the number of true rows."
   ]
  },
  {
   "cell_type": "markdown",
   "id": "86799280-2d8a-490f-877e-954100b2cd08",
   "metadata": {},
   "source": [
    "**Random Undersampling**"
   ]
  },
  {
   "cell_type": "code",
   "execution_count": 54,
   "id": "18f077ba-5dc7-4a36-91a9-c15c884fb121",
   "metadata": {
    "tags": []
   },
   "outputs": [
    {
     "name": "stdout",
     "output_type": "stream",
     "text": [
      "(32450, 2)\n"
     ]
    }
   ],
   "source": [
    "# Creating new DF with a perfect class balance - balanced_df\n",
    "df_false = train_df[train_df['review_comment'] == 0]\n",
    "\n",
    "# Randomly sample 16225 rows from df_0\n",
    "sampled_df_false = df_false.sample(n=16225, random_state=30)\n",
    "\n",
    "# Select rows where target_col equals 1\n",
    "df_true = train_df[train_df['review_comment'] == 1]\n",
    "\n",
    "# Concatenate sampled_df_0 and df_1 to form the final balanced dataset\n",
    "balanced_df = pd.concat([sampled_df_false, df_true], axis=0)\n",
    "\n",
    "# Shuffle the dataset\n",
    "balanced_df = balanced_df.sample(frac=1, random_state=30).reset_index(drop=True)\n",
    "\n",
    "# Print the shape of the balanced dataset to verify\n",
    "print(balanced_df.shape)"
   ]
  },
  {
   "cell_type": "code",
   "execution_count": 55,
   "id": "1651476b-2e2f-432f-83d9-86c6656fbc52",
   "metadata": {
    "tags": []
   },
   "outputs": [
    {
     "data": {
      "text/plain": [
       "review_comment\n",
       "1    16225\n",
       "0    16225\n",
       "Name: count, dtype: int64"
      ]
     },
     "execution_count": 55,
     "metadata": {},
     "output_type": "execute_result"
    }
   ],
   "source": [
    "# Check the number of obervations of true / false results\n",
    "balanced_df['review_comment'].value_counts()"
   ]
  },
  {
   "cell_type": "code",
   "execution_count": 56,
   "id": "74700cec-5440-45b4-9aff-e3b9fd2ddc12",
   "metadata": {
    "tags": []
   },
   "outputs": [
    {
     "data": {
      "text/plain": [
       "review_comment\n",
       "1    0.5\n",
       "0    0.5\n",
       "Name: proportion, dtype: float64"
      ]
     },
     "execution_count": 56,
     "metadata": {},
     "output_type": "execute_result"
    }
   ],
   "source": [
    "# Double check the distribution\n",
    "balanced_df['review_comment'].value_counts(normalize = True)"
   ]
  },
  {
   "cell_type": "code",
   "execution_count": 57,
   "id": "ca7d34b7-c66a-4f53-b31c-c42d353c2c34",
   "metadata": {
    "tags": []
   },
   "outputs": [
    {
     "data": {
      "image/png": "[encoded data removed]",
      "text/plain": [
       "<Figure size 800x600 with 1 Axes>"
      ]
     },
     "metadata": {},
     "output_type": "display_data"
    }
   ],
   "source": [
    "# Count the values\n",
    "value_counts = balanced_df['review_comment'].value_counts()\n",
    "\n",
    "# Plotting the bar chart\n",
    "plt.figure(figsize=(8, 6))\n",
    "value_counts.plot(kind='bar', color=['skyblue', 'salmon'])\n",
    "plt.title('Distribution of target column (Training Set)')\n",
    "plt.xlabel('Review Comment')\n",
    "plt.ylabel('Count')\n",
    "plt.xticks(rotation=0)\n",
    "plt.show()"
   ]
  },
  {
   "cell_type": "markdown",
   "id": "9907b79b-5cb8-41c8-bee6-a59ed2627342",
   "metadata": {},
   "source": [
    " "
   ]
  },
  {
   "cell_type": "markdown",
   "id": "0b377c60-10d9-49e5-8f46-8e3842fdbff1",
   "metadata": {},
   "source": [
    "## 3.0 Preparing data for sentiment analysis"
   ]
  },
  {
   "cell_type": "code",
   "execution_count": 60,
   "id": "562bf603-cb12-4579-8088-821b81129240",
   "metadata": {
    "tags": []
   },
   "outputs": [],
   "source": [
    "## Reuse regex function from before\n",
    "# Takes something we want to remove and removes it (From prev notebook)\n",
    "\n",
    "def regex_clean(txt, regex):\n",
    "    \"\"\"Replace any text matching the regex\n",
    "\n",
    "    Parameters\n",
    "    ----------\n",
    "    txt : string\n",
    "        A text string that you want to parse and remove matches\n",
    "    regex : string \n",
    "        A text string of the regex pattern you want to match\n",
    "\n",
    "    Returns\n",
    "    -------\n",
    "    The same txt string with the matches removes\n",
    "    \"\"\"\n",
    "\n",
    "    return \" \".join(re.sub(regex, \"\", txt).split())\n",
    "\n",
    "def remove_emoji(string):\n",
    "    emoji_pattern = re.compile(\"[\"\n",
    "                           u\"\\U0001F600-\\U0001F64F\" # emoticons\n",
    "                           u\"\\U0001F300-\\U0001F5FF\" # symbols & pictographs\n",
    "                           u\"\\U0001F680-\\U0001F6FF\" # transport & map symbols\n",
    "                           u\"\\U0001F1E0-\\U0001F1FF\" # flags (iOS)\n",
    "                           u\"\\U00002702-\\U000027B0\"\n",
    "                           u\"\\U000024C2-\\U0001F251\"\n",
    "                           \"]+\", flags=re.UNICODE)\n",
    "    return emoji_pattern.sub(r'', string)\n",
    "\n"
   ]
  },
  {
   "cell_type": "code",
   "execution_count": 61,
   "id": "b222d90a-5a0d-4fb1-8e6b-8dc970d72e42",
   "metadata": {
    "tags": []
   },
   "outputs": [],
   "source": [
    "# Function to clean the commennts\n",
    "def clean_comments(df):\n",
    "    # Step 1: Lowercase all posts\n",
    "    df['cleaned'] = df['comment_text'].apply(str.lower)\n",
    "\n",
    "    # Step 2: Define a few regex patterns to clean! -- Not one size fits all!!!\n",
    "    regex_to_clean = [r'(@.+?)\\s', # Match the second half of an email address\n",
    "                      r'\\s\\d+\\s', # Match numbers\n",
    "                      r'(//t.co/.+?)\\s', # Match websites!\n",
    "                      r'(//t.co/.+?)',\n",
    "                      r\"\\b(?:n't|ve|ll|re|don|t|s|m)\\b|\\b(?:I've|don’t|don't)\\b\",\n",
    "                      r'\\n',\n",
    "                      r':3',\n",
    "                      r'\\b\\d+(\\.\\d+)?\\b', # Numbs/decimal combinations\n",
    "                      r'=+',\n",
    "                      r'[\"\\']+|\\b\\d+(\\.\\d+)?\\b',\n",
    "                      r'[\\d.]+',\n",
    "                      r'[^\\w\\s]'] # \" and ' or repeats\n",
    "\n",
    "    \n",
    "    # step 2.2: Apply regex cleaning\n",
    "    for reg in regex_to_clean:\n",
    "        df['cleaned'] = df['cleaned'].apply(regex_clean, regex=reg)\n",
    "\n",
    "    # Step : Apply emoji remover    \n",
    "    df['cleaned'] = df['cleaned'].apply(remove_emoji)"
   ]
  },
  {
   "cell_type": "code",
   "execution_count": 62,
   "id": "52d2225a-cb86-4cfb-9c40-7247dd7c91e4",
   "metadata": {
    "tags": []
   },
   "outputs": [
    {
     "data": {
      "text/html": [
       "<div>\n",
       "<style scoped>\n",
       "    .dataframe tbody tr th:only-of-type {\n",
       "        vertical-align: middle;\n",
       "    }\n",
       "\n",
       "    .dataframe tbody tr th {\n",
       "        vertical-align: top;\n",
       "    }\n",
       "\n",
       "    .dataframe thead th {\n",
       "        text-align: right;\n",
       "    }\n",
       "</style>\n",
       "<table border=\"1\" class=\"dataframe\">\n",
       "  <thead>\n",
       "    <tr style=\"text-align: right;\">\n",
       "      <th></th>\n",
       "      <th>comment_text</th>\n",
       "      <th>review_comment</th>\n",
       "      <th>cleaned</th>\n",
       "    </tr>\n",
       "  </thead>\n",
       "  <tbody>\n",
       "    <tr>\n",
       "      <th>0</th>\n",
       "      <td>\"\\n\\n Love Hina part:3 \\n\\nDamm you and your a...</td>\n",
       "      <td>1</td>\n",
       "      <td>love hina part damm you and your auto archivin...</td>\n",
       "    </tr>\n",
       "    <tr>\n",
       "      <th>1</th>\n",
       "      <td>Thanks for the link.  I had seen am English la...</td>\n",
       "      <td>0</td>\n",
       "      <td>thanks for the link i had seen am english lang...</td>\n",
       "    </tr>\n",
       "    <tr>\n",
       "      <th>2</th>\n",
       "      <td>The opening paragraph states that the game is ...</td>\n",
       "      <td>0</td>\n",
       "      <td>the opening paragraph states that the game is ...</td>\n",
       "    </tr>\n",
       "    <tr>\n",
       "      <th>3</th>\n",
       "      <td>Most of these schools' entries read straight o...</td>\n",
       "      <td>0</td>\n",
       "      <td>most of these schools entries read straight ou...</td>\n",
       "    </tr>\n",
       "    <tr>\n",
       "      <th>4</th>\n",
       "      <td>Cameron Ward DJ \\n\\nYou have deleted a page th...</td>\n",
       "      <td>0</td>\n",
       "      <td>cameron ward dj you have deleted a page that i...</td>\n",
       "    </tr>\n",
       "  </tbody>\n",
       "</table>\n",
       "</div>"
      ],
      "text/plain": [
       "0                                       comment_text  review_comment  \\\n",
       "0  \"\\n\\n Love Hina part:3 \\n\\nDamm you and your a...               1   \n",
       "1  Thanks for the link.  I had seen am English la...               0   \n",
       "2  The opening paragraph states that the game is ...               0   \n",
       "3  Most of these schools' entries read straight o...               0   \n",
       "4  Cameron Ward DJ \\n\\nYou have deleted a page th...               0   \n",
       "\n",
       "0                                            cleaned  \n",
       "0  love hina part damm you and your auto archivin...  \n",
       "1  thanks for the link i had seen am english lang...  \n",
       "2  the opening paragraph states that the game is ...  \n",
       "3  most of these schools entries read straight ou...  \n",
       "4  cameron ward dj you have deleted a page that i...  "
      ]
     },
     "execution_count": 62,
     "metadata": {},
     "output_type": "execute_result"
    }
   ],
   "source": [
    "# Create a copy of orginal comments\n",
    "unclean_comments = balanced_df.copy()\n",
    "# Apply to our df\n",
    "clean_comments(balanced_df)\n",
    "balanced_df.head()"
   ]
  },
  {
   "cell_type": "code",
   "execution_count": 63,
   "id": "f665b8f0-cb3d-433d-9fac-500941726710",
   "metadata": {},
   "outputs": [],
   "source": [
    "## Create/Declare some of the tools we might need\n",
    "\n",
    "p_stemmer = PorterStemmer() # Stemming stratedy could in practice try multiple\n",
    "stpwrd = nltk.corpus.stopwords.words('english') # Remove stopwords\n",
    "stpwrd.extend(string.punctuation) # Remove punctuation\n",
    "\n",
    "\n",
    "# Define a function to prepare our dataset\n",
    "def prep_data(review):\n",
    "\n",
    "    #Tokenizing!\n",
    "    review = word_tokenize(review) # From what we have left we seperate terms/words into items in a list\n",
    "\n",
    "    # Cleaning tokens!\n",
    "    # Post Token Cleaning - Stuff that applies to a list\n",
    "    review = [word for word in review if word not in stpwrd] # Keep all the words that are not stopwords\n",
    "    review = [p_stemmer.stem(word) for word in review] # Apply stemmer (e.g 'apples' - 'apple')\n",
    "    review = [word for word in review if word not in stpwrd] # Maybe the stemmer creates a stopword itself - Let's remove them (Probably not that common but good to have)\n",
    "    review = [word for word in review if len(word)>2] # Remove small 1/2 letter words\n",
    "    \n",
    "    return review"
   ]
  },
  {
   "cell_type": "markdown",
   "id": "03ec1b8d-0a5d-4715-a14b-312132f36fd4",
   "metadata": {},
   "source": [
    "## 4.0 Sentiment Analysis"
   ]
  },
  {
   "cell_type": "markdown",
   "id": "fdb71cab-8448-4103-aa85-5b157f29fd04",
   "metadata": {
    "tags": []
   },
   "source": [
    "### 4.1 Sentiment Analysis from scratch"
   ]
  },
  {
   "cell_type": "markdown",
   "id": "62672eaf-6dc8-411d-863d-ffa054155c47",
   "metadata": {},
   "source": [
    "**Using Porter Stemmer**"
   ]
  },
  {
   "cell_type": "code",
   "execution_count": 67,
   "id": "08f2b2b1-a42c-476d-88ea-a122dd7c406c",
   "metadata": {
    "tags": []
   },
   "outputs": [],
   "source": [
    "# Apply it on the testing data\n",
    "balanced_df_train = balanced_df.copy()"
   ]
  },
  {
   "cell_type": "code",
   "execution_count": 68,
   "id": "e90374be-a1c7-4aba-910e-8723ed56f11d",
   "metadata": {
    "tags": []
   },
   "outputs": [],
   "source": [
    "# Accessing toxic words lexicon\n",
    "# Specify path to text file\n",
    "file_path = 'Toxic words dictionary.txt'\n",
    "\n",
    "# Initialize an empty list to store the words\n",
    "toxic_words = []\n",
    "\n",
    "# Open the file and read its contents\n",
    "with open(file_path, 'r', encoding='utf-8') as file:\n",
    "    # Read each line and strip any newline characters\n",
    "    for line in file:\n",
    "        word = line.strip()  # Remove leading and trailing whitespace, including newline characters\n",
    "        toxic_words.append(word)  # Add the cleaned word to the list\n",
    "\n",
    "# print(toxic_words)"
   ]
  },
  {
   "cell_type": "code",
   "execution_count": 69,
   "id": "dc3baea9-0f2f-4ce4-99e1-b75eb0c79502",
   "metadata": {
    "tags": []
   },
   "outputs": [],
   "source": [
    "## Define a list of toxic words\n",
    "\n",
    "\n",
    "# toxic_words = 'fuck,shit,bad,gross,wrong,awful,horrible,nasty,never,sad,hate,dirty,worst,cheap,dreadful,inferior,lousy,poor,terrible,unpleasant,unfortunate,subpar,abysmal,disgusting,repulsive,revolting,repugnant,dick,offensive,hypocrite,vile,nauseating,abhorrent,rude'.split(',')\n",
    "# Note: added words e.g ('worst') -- Used generative ai for synonyms and list formatting\n",
    "# Could use a library of online for more extensive lists -- pre existing libraries\n",
    "\n",
    "## Apply porter stemming on these words\n",
    "toxic_words = [p_stemmer.stem(word) for word in toxic_words]\n",
    "\n",
    "## Define our own sentiment scoring function\n",
    "def score_review(review):\n",
    "    # Step 1:Prepare review - Tokenize\n",
    "    review = prep_data(review)\n",
    "    \n",
    "    # Step 2: Score the review!\n",
    "    negative_count = sum([1 for i in review if i in toxic_words])   # How many sad terms (+=1)\n",
    "    # Try and except brach in case there was an empty review\n",
    "    try:\n",
    "        negative_score = round((negative_count) / len(review), 2) # % of terms sad\n",
    "        neutral_score =  round((len(review) - negative_count) / len(review),2) # Everything else\n",
    "    except ZeroDivisionError: # If empty\n",
    "        neutral_score = 0\n",
    "        negative_score = 0\n",
    "    # Return the sentiment of the review: positve / negative / neutral\n",
    "    return negative_score"
   ]
  },
  {
   "cell_type": "code",
   "execution_count": 70,
   "id": "0e25dbe4-9887-40b5-a8b3-aa23a224a349",
   "metadata": {
    "tags": []
   },
   "outputs": [],
   "source": [
    "## Creating a scoring (classification) function\n",
    "\n",
    "def make_pred(score):\n",
    "    score = score * 1 # Negative - Apply a positive weight -- May need to adjust weights\n",
    "    \n",
    "    if score > 0.10:\n",
    "        return 1 # Classify as no review\n",
    "    else:\n",
    "        return 0 # Classify as review"
   ]
  },
  {
   "cell_type": "code",
   "execution_count": 71,
   "id": "3e7ff056-9d74-4a6a-bbb1-bc3f19ce262c",
   "metadata": {
    "tags": []
   },
   "outputs": [],
   "source": [
    "# Add score column\n",
    "balanced_df_train['negative_score'] = balanced_df_train['cleaned'].apply(score_review)"
   ]
  },
  {
   "cell_type": "code",
   "execution_count": 72,
   "id": "a8b7a37b-865a-437c-8738-123a94a458cf",
   "metadata": {
    "tags": []
   },
   "outputs": [
    {
     "data": {
      "text/html": [
       "<div>\n",
       "<style scoped>\n",
       "    .dataframe tbody tr th:only-of-type {\n",
       "        vertical-align: middle;\n",
       "    }\n",
       "\n",
       "    .dataframe tbody tr th {\n",
       "        vertical-align: top;\n",
       "    }\n",
       "\n",
       "    .dataframe thead th {\n",
       "        text-align: right;\n",
       "    }\n",
       "</style>\n",
       "<table border=\"1\" class=\"dataframe\">\n",
       "  <thead>\n",
       "    <tr style=\"text-align: right;\">\n",
       "      <th></th>\n",
       "      <th>comment_text</th>\n",
       "      <th>review_comment</th>\n",
       "      <th>cleaned</th>\n",
       "      <th>negative_score</th>\n",
       "      <th>pred</th>\n",
       "    </tr>\n",
       "  </thead>\n",
       "  <tbody>\n",
       "    <tr>\n",
       "      <th>0</th>\n",
       "      <td>\"\\n\\n Love Hina part:3 \\n\\nDamm you and your a...</td>\n",
       "      <td>1</td>\n",
       "      <td>love hina part damm you and your auto archivin...</td>\n",
       "      <td>0.02</td>\n",
       "      <td>0</td>\n",
       "    </tr>\n",
       "    <tr>\n",
       "      <th>1</th>\n",
       "      <td>Thanks for the link.  I had seen am English la...</td>\n",
       "      <td>0</td>\n",
       "      <td>thanks for the link i had seen am english lang...</td>\n",
       "      <td>0.00</td>\n",
       "      <td>0</td>\n",
       "    </tr>\n",
       "    <tr>\n",
       "      <th>2</th>\n",
       "      <td>The opening paragraph states that the game is ...</td>\n",
       "      <td>0</td>\n",
       "      <td>the opening paragraph states that the game is ...</td>\n",
       "      <td>0.00</td>\n",
       "      <td>0</td>\n",
       "    </tr>\n",
       "    <tr>\n",
       "      <th>3</th>\n",
       "      <td>Most of these schools' entries read straight o...</td>\n",
       "      <td>0</td>\n",
       "      <td>most of these schools entries read straight ou...</td>\n",
       "      <td>0.00</td>\n",
       "      <td>0</td>\n",
       "    </tr>\n",
       "    <tr>\n",
       "      <th>4</th>\n",
       "      <td>Cameron Ward DJ \\n\\nYou have deleted a page th...</td>\n",
       "      <td>0</td>\n",
       "      <td>cameron ward dj you have deleted a page that i...</td>\n",
       "      <td>0.00</td>\n",
       "      <td>0</td>\n",
       "    </tr>\n",
       "  </tbody>\n",
       "</table>\n",
       "</div>"
      ],
      "text/plain": [
       "0                                       comment_text  review_comment  \\\n",
       "0  \"\\n\\n Love Hina part:3 \\n\\nDamm you and your a...               1   \n",
       "1  Thanks for the link.  I had seen am English la...               0   \n",
       "2  The opening paragraph states that the game is ...               0   \n",
       "3  Most of these schools' entries read straight o...               0   \n",
       "4  Cameron Ward DJ \\n\\nYou have deleted a page th...               0   \n",
       "\n",
       "0                                            cleaned  negative_score  pred  \n",
       "0  love hina part damm you and your auto archivin...            0.02     0  \n",
       "1  thanks for the link i had seen am english lang...            0.00     0  \n",
       "2  the opening paragraph states that the game is ...            0.00     0  \n",
       "3  most of these schools entries read straight ou...            0.00     0  \n",
       "4  cameron ward dj you have deleted a page that i...            0.00     0  "
      ]
     },
     "execution_count": 72,
     "metadata": {},
     "output_type": "execute_result"
    }
   ],
   "source": [
    "# Create a column with our predictions\n",
    "balanced_df_train['pred'] = balanced_df_train['negative_score'].apply(make_pred)\n",
    "balanced_df_train.head(5)"
   ]
  },
  {
   "cell_type": "code",
   "execution_count": 73,
   "id": "c1ac8d56-f05c-480c-ba00-dceefb821f02",
   "metadata": {
    "tags": []
   },
   "outputs": [],
   "source": [
    "# Accuracy checker\n",
    "def accuracy_calc(df):\n",
    "    df['accuracy'] = df['review_comment'] == df['pred']\n",
    "\n",
    "    accuracy = df['accuracy'].mean() * 100\n",
    "    print(f'Accuracy Score is {accuracy}%') # First attempt = 55% - Let's improve (change weighting and make list more extensive) current = Accuracy Score is 83.09707241910633%"
   ]
  },
  {
   "cell_type": "code",
   "execution_count": 74,
   "id": "26ef3f9c-d989-4933-9ed2-fbd08e3b75bb",
   "metadata": {
    "tags": []
   },
   "outputs": [
    {
     "name": "stdout",
     "output_type": "stream",
     "text": [
      "Accuracy Score is 81.70416024653314%\n"
     ]
    }
   ],
   "source": [
    "# Apply accuracy checker\n",
    "accuracy_calc(balanced_df_train)"
   ]
  },
  {
   "cell_type": "markdown",
   "id": "f7947667-ece7-4c9e-969d-8065a337aefc",
   "metadata": {
    "tags": []
   },
   "source": [
    "**Porter Accuracy Score is 81.5808936825886%** <br/>\n",
    "**Note:** The first iteration of the model yielded poor results (approximately 51%), prompting the next step of enhancing accuracy by integrating a lexicon of toxic words. Subsequent models will incorporate the same lexicon of toxic words for consistency."
   ]
  },
  {
   "cell_type": "markdown",
   "id": "2122d536-d125-40b3-b855-ca81a0c7890d",
   "metadata": {
    "tags": []
   },
   "source": [
    "**Using lemmatization**"
   ]
  },
  {
   "cell_type": "code",
   "execution_count": 77,
   "id": "d0fe5f91-d5e6-401f-b287-214e1d0e7d91",
   "metadata": {
    "tags": []
   },
   "outputs": [],
   "source": [
    "# # Initialize WordNet Lemmatizer\n",
    "# lemmatizer = WordNetLemmatizer()\n",
    "# def prep_data(review):\n",
    "\n",
    "#     #Tokenizing!\n",
    "#     review = word_tokenize(review) # From what we have left we seperate terms/words into items in a list\n",
    "\n",
    "#     # Cleaning tokens!\n",
    "#     # Post Token Cleaning - Stuff that applies to a list\n",
    "#     review = [word for word in review if word not in stpwrd] # Keep all the words that are not stopwords\n",
    "#     review = [lemmatizer.lemmatize(word) for word in review] # Apply stemmer (e.g 'apples' - 'apple')\n",
    "#     review = [word for word in review if word not in stpwrd] # Maybe the stemmer creates a stopword itself - Let's remove them (Probably not that common but good to have)\n",
    "#     review = [word for word in review if len(word)>2] # Remove small 1/2 letter words\n",
    "    \n",
    "#     return review"
   ]
  },
  {
   "cell_type": "code",
   "execution_count": 78,
   "id": "dd315a18-72b2-4f88-8d27-7a5a3516c5e1",
   "metadata": {
    "tags": []
   },
   "outputs": [],
   "source": [
    "# # Make a copy of the df\n",
    "# lemmatizer_df = balanced_df.copy()\n",
    "\n",
    "# # Add score column\n",
    "# lemmatizer_df['negative_score'] = lemmatizer_df['cleaned'].apply(score_review)\n",
    "# # Create a column with our predictions\n",
    "# lemmatizer_df['pred'] = lemmatizer_df['negative_score'].apply(make_pred)\n",
    "# lemmatizer_df.head(5)"
   ]
  },
  {
   "cell_type": "code",
   "execution_count": 79,
   "id": "c42365c3-091e-4489-be20-3d421cc1e72c",
   "metadata": {
    "tags": []
   },
   "outputs": [],
   "source": [
    "# # Apply accuracy checker\n",
    "# accuracy_calc(lemmatizer_df)"
   ]
  },
  {
   "cell_type": "markdown",
   "id": "5431863f-620b-4ccc-93e3-998d8803bdb4",
   "metadata": {},
   "source": [
    "**Lemmatization Accuracy Score is 74.90292758089369%**"
   ]
  },
  {
   "cell_type": "markdown",
   "id": "c449e84f-e192-4c58-92e3-6641fb79a4bd",
   "metadata": {
    "tags": []
   },
   "source": [
    "**Using Snowball**"
   ]
  },
  {
   "cell_type": "code",
   "execution_count": 82,
   "id": "12dc3f0d-f4bf-4c17-9c21-c08f0b8c8736",
   "metadata": {
    "tags": []
   },
   "outputs": [],
   "source": [
    "# # Initialize WordNet Lemmatizer\n",
    "# s_stemmer = SnowballStemmer(language='english') # Snowball\n",
    "# def prep_data(review):\n",
    "\n",
    "#     #Tokenizing!\n",
    "#     review = word_tokenize(review) # From what we have left we seperate terms/words into items in a list\n",
    "\n",
    "#     # Cleaning tokens!\n",
    "#     # Post Token Cleaning - Stuff that applies to a list\n",
    "#     review = [word for word in review if word not in stpwrd] # Keep all the words that are not stopwords\n",
    "#     review = [s_stemmer.stem(word) for word in review] # Apply stemmer (e.g 'apples' - 'apple')\n",
    "#     review = [word for word in review if word not in stpwrd] # Maybe the stemmer creates a stopword itself - Let's remove them (Probably not that common but good to have)\n",
    "#     review = [word for word in review if len(word)>2] # Remove small 1/2 letter words\n",
    "    \n",
    "#     return review"
   ]
  },
  {
   "cell_type": "code",
   "execution_count": 83,
   "id": "22c848e8-0d27-4077-b4ac-3f6ff25ab77f",
   "metadata": {
    "tags": []
   },
   "outputs": [],
   "source": [
    "# # Make a copy of the df\n",
    "# snowball_df = balanced_df.copy()\n",
    "\n",
    "# # Add score column\n",
    "# snowball_df['negative_score'] = snowball_df['cleaned'].apply(score_review)\n",
    "# # Create a column with our predictions\n",
    "# snowball_df['pred'] = snowball_df['negative_score'].apply(make_pred)\n",
    "# snowball_df.head(5)"
   ]
  },
  {
   "cell_type": "code",
   "execution_count": 84,
   "id": "53acddf4-4970-45d9-a134-3d4c75145135",
   "metadata": {
    "tags": []
   },
   "outputs": [],
   "source": [
    "# # Apply accuracy checker\n",
    "# accuracy_calc(lemmatizer_df)"
   ]
  },
  {
   "cell_type": "markdown",
   "id": "dafd0d6e-a949-425d-9aab-519ffd1aced7",
   "metadata": {},
   "source": [
    "**Snowball Accuracy Score is 74.89676425269646%**"
   ]
  },
  {
   "cell_type": "markdown",
   "id": "9cb20bff-07c5-425d-86f0-ea67b42208e4",
   "metadata": {
    "tags": []
   },
   "source": [
    "## Porter stemming fine tuning"
   ]
  },
  {
   "cell_type": "markdown",
   "id": "5f99bae7-3d67-4f36-bf0b-9077f188d728",
   "metadata": {},
   "source": [
    "**Note:** Since porter stemmer performed slighlty better we will be fine tuning that model."
   ]
  },
  {
   "cell_type": "code",
   "execution_count": 88,
   "id": "9c5321e1-cdb8-4a6c-b10e-9c36f1a4239d",
   "metadata": {
    "tags": []
   },
   "outputs": [],
   "source": [
    "# Craete a copy of the DF\n",
    "porter_df = unclean_comments.copy()"
   ]
  },
  {
   "cell_type": "markdown",
   "id": "6f643b59-afad-4373-9d89-4f5a0137a797",
   "metadata": {
    "tags": []
   },
   "source": [
    "**Abbreviations**"
   ]
  },
  {
   "cell_type": "markdown",
   "id": "2ad92fdd-8c00-4ca3-9853-6d97dac27d6c",
   "metadata": {
    "tags": []
   },
   "source": [
    " Additional data was added to the toxic words dictionary including abbreviations which are shown below."
   ]
  },
  {
   "cell_type": "markdown",
   "id": "d39addcd-c9e1-4f80-aab7-bd6ab2d5f733",
   "metadata": {
    "tags": []
   },
   "source": [
    "**Handling Typos**"
   ]
  },
  {
   "cell_type": "code",
   "execution_count": 92,
   "id": "dcf6407c-ae6e-417b-aa14-f404914d47a0",
   "metadata": {},
   "outputs": [],
   "source": [
    "# Initialize SpellChecker\n",
    "spell = SpellChecker()\n",
    "\n",
    "# List of words (toxic abbreviations) to be added to the dictionary so will not be corrected by spell checker\n",
    "custom_words = [\"gtfo\", \"stfu\", \"pos\", \"foad\", \"diaf\", \"gfy\", \"smd\", \"kys\"]\n",
    "\n",
    "\n",
    "# Add each custom word to the dictionary\n",
    "for word in custom_words:\n",
    "    spell.word_frequency.add(word)"
   ]
  },
  {
   "cell_type": "code",
   "execution_count": 93,
   "id": "7a11e16e-f39e-45f7-a94e-f4858e1b92ca",
   "metadata": {},
   "outputs": [
    {
     "name": "stdout",
     "output_type": "stream",
     "text": [
      "Original Sentence: This should remain the same: gtfo stfu foad diaf  gfy smd kys word something ... Thiss shoud be fixxed and typos remmoved  \n",
      "Corrected Sentence: This should remain the same gtfo stfu foad diaf gfy smd kys word something ... this should be fixed and typos removed\n"
     ]
    }
   ],
   "source": [
    "# Function to correct sentence\n",
    "def correct_sentence(sentence):\n",
    "    # Split sentence into words\n",
    "    words = sentence.split()\n",
    "    corrected_words = []\n",
    "    \n",
    "    # Correct each word\n",
    "    for word in words:\n",
    "        # Get the corrected word; if None, use the original word\n",
    "        corrected_word = spell.correction(word)\n",
    "        corrected_words.append(corrected_word if corrected_word is not None else word)\n",
    "    \n",
    "    # Join corrected words into a sentence\n",
    "    corrected_sentence = ' '.join(corrected_words)\n",
    "    return corrected_sentence\n",
    "\n",
    "# Example usage\n",
    "input_sentence = \"This should remain the same: gtfo stfu foad diaf  gfy smd kys word something ... Thiss shoud be fixxed and typos remmoved  \"\n",
    "corrected_sentence = correct_sentence(input_sentence)\n",
    "print(\"Original Sentence:\", input_sentence)\n",
    "print(\"Corrected Sentence:\", corrected_sentence)"
   ]
  },
  {
   "cell_type": "markdown",
   "id": "b22abe45-0f0e-4a31-b7f4-3782519d09c8",
   "metadata": {},
   "source": [
    "**Please note:** The execution time for the code was excessively long, preventing the application of the correct_sentence function to the dataframe."
   ]
  },
  {
   "cell_type": "code",
   "execution_count": 95,
   "id": "dc4fc8b7-0c3f-40be-b469-e67f3178024b",
   "metadata": {
    "tags": []
   },
   "outputs": [],
   "source": [
    "# # Apply the correct_sentence method -- Did not finish running\n",
    "# porter_df['comment_text'] = porter_df['comment_text'].apply(correct_sentence)"
   ]
  },
  {
   "cell_type": "markdown",
   "id": "7427d781-9f47-463f-82e4-29c19bfe7fb8",
   "metadata": {},
   "source": [
    "**Handling Negates**"
   ]
  },
  {
   "cell_type": "code",
   "execution_count": 97,
   "id": "1320a958-33f1-41d7-bc0b-aa9bc15bba8f",
   "metadata": {
    "tags": []
   },
   "outputs": [
    {
     "name": "stdout",
     "output_type": "stream",
     "text": [
      "you are notafool. you are notdumb. norfoolish, notdimwitted and certainly notanimbecile\n"
     ]
    }
   ],
   "source": [
    "# Handling negates\n",
    "negation_words_space = [\"not a\", \"not an\", \"nor a\", \"nor an\", \"aren't a\", \"aren't an\"]\n",
    "negation_words = [\"not\", \"no\", \"nor\", \"aren't\"]\n",
    "\n",
    "# Handling negates and self depricating humour/jokes -- Accuracy Score is 80.85670261941449% performed worst!\n",
    "# negation_words_space = [\"not a\", \"not an\", \"nor a\", \"nor an\", \"aren't a\", \"aren't an\", \"i am\", \"myself am\", \"we are\", \"we also\"]\n",
    "# negation_words = [\"not\", \"no\", \"nor\", \"aren't\", \"i\", \"i'm\",  \"myself\", \"we\", \"we're\"] \n",
    "# References to oneself can help counter self depricating humour -- unlikely to be toxic to oneself and if so is'nt really something that is punishable.\n",
    "\n",
    "def preprocess_text(text):\n",
    "    # Convert the input text to lowercase\n",
    "    text = text.lower()\n",
    "    \n",
    "    # Process phrases with spaces\n",
    "    for phrase in negation_words_space:\n",
    "        pattern = re.compile(re.escape(phrase) + r'\\s+(\\S)')\n",
    "        text = pattern.sub(lambda match: phrase.replace(' ', '') + match.group(1), text)\n",
    "    \n",
    "    # Process single-word phrases\n",
    "    for phrase in negation_words:\n",
    "        pattern = re.compile(re.escape(phrase) + r'\\s+(\\S)')\n",
    "        text = pattern.sub(lambda match: phrase.replace(' ', '') + match.group(1), text)\n",
    "        \n",
    "    return text\n",
    "\n",
    "# Proof of concept\n",
    "text = \"you are not a fool. you are not dumb. nor foolish, not dimwitted and certainly not an imbecile\"\n",
    "print(preprocess_text(text))"
   ]
  },
  {
   "cell_type": "code",
   "execution_count": 98,
   "id": "610bf596-3941-4ed4-9ec8-86cbf4932fa5",
   "metadata": {
    "tags": []
   },
   "outputs": [
    {
     "data": {
      "text/html": [
       "<div>\n",
       "<style scoped>\n",
       "    .dataframe tbody tr th:only-of-type {\n",
       "        vertical-align: middle;\n",
       "    }\n",
       "\n",
       "    .dataframe tbody tr th {\n",
       "        vertical-align: top;\n",
       "    }\n",
       "\n",
       "    .dataframe thead th {\n",
       "        text-align: right;\n",
       "    }\n",
       "</style>\n",
       "<table border=\"1\" class=\"dataframe\">\n",
       "  <thead>\n",
       "    <tr style=\"text-align: right;\">\n",
       "      <th></th>\n",
       "      <th>comment_text</th>\n",
       "      <th>review_comment</th>\n",
       "    </tr>\n",
       "  </thead>\n",
       "  <tbody>\n",
       "    <tr>\n",
       "      <th>0</th>\n",
       "      <td>\"\\n\\n love hina part:3 \\n\\ndamm you and your a...</td>\n",
       "      <td>1</td>\n",
       "    </tr>\n",
       "    <tr>\n",
       "      <th>1</th>\n",
       "      <td>thanks for the link.  i had seen am english la...</td>\n",
       "      <td>0</td>\n",
       "    </tr>\n",
       "    <tr>\n",
       "      <th>2</th>\n",
       "      <td>the opening paragraph states that the game is ...</td>\n",
       "      <td>0</td>\n",
       "    </tr>\n",
       "    <tr>\n",
       "      <th>3</th>\n",
       "      <td>most of these schools' entries read straight o...</td>\n",
       "      <td>0</td>\n",
       "    </tr>\n",
       "    <tr>\n",
       "      <th>4</th>\n",
       "      <td>cameron ward dj \\n\\nyou have deleted a page th...</td>\n",
       "      <td>0</td>\n",
       "    </tr>\n",
       "  </tbody>\n",
       "</table>\n",
       "</div>"
      ],
      "text/plain": [
       "0                                       comment_text  review_comment\n",
       "0  \"\\n\\n love hina part:3 \\n\\ndamm you and your a...               1\n",
       "1  thanks for the link.  i had seen am english la...               0\n",
       "2  the opening paragraph states that the game is ...               0\n",
       "3  most of these schools' entries read straight o...               0\n",
       "4  cameron ward dj \\n\\nyou have deleted a page th...               0"
      ]
     },
     "execution_count": 98,
     "metadata": {},
     "output_type": "execute_result"
    }
   ],
   "source": [
    "# Apply the preprocess_text function to the 'text_column'\n",
    "# Apply the preprocess_text function to the 'text_column' and replace it with the processed text\n",
    "porter_df['comment_text'] = porter_df['comment_text'].apply(lambda x: preprocess_text(x))\n",
    "\n",
    "# Display the DataFrame\n",
    "porter_df.head()"
   ]
  },
  {
   "cell_type": "code",
   "execution_count": 99,
   "id": "42cb87b5-71ed-41a6-920f-a6c81cf552e3",
   "metadata": {
    "tags": []
   },
   "outputs": [],
   "source": [
    "# Clean th comments and make a new column\n",
    "clean_comments(porter_df)"
   ]
  },
  {
   "cell_type": "code",
   "execution_count": 100,
   "id": "7d3d08fe-f5c7-4349-9ea9-5fcf0172d2ed",
   "metadata": {
    "tags": []
   },
   "outputs": [
    {
     "data": {
      "text/html": [
       "<div>\n",
       "<style scoped>\n",
       "    .dataframe tbody tr th:only-of-type {\n",
       "        vertical-align: middle;\n",
       "    }\n",
       "\n",
       "    .dataframe tbody tr th {\n",
       "        vertical-align: top;\n",
       "    }\n",
       "\n",
       "    .dataframe thead th {\n",
       "        text-align: right;\n",
       "    }\n",
       "</style>\n",
       "<table border=\"1\" class=\"dataframe\">\n",
       "  <thead>\n",
       "    <tr style=\"text-align: right;\">\n",
       "      <th></th>\n",
       "      <th>comment_text</th>\n",
       "      <th>review_comment</th>\n",
       "      <th>cleaned</th>\n",
       "    </tr>\n",
       "  </thead>\n",
       "  <tbody>\n",
       "    <tr>\n",
       "      <th>0</th>\n",
       "      <td>\"\\n\\n love hina part:3 \\n\\ndamm you and your a...</td>\n",
       "      <td>1</td>\n",
       "      <td>love hina part damm you and your auto archivin...</td>\n",
       "    </tr>\n",
       "    <tr>\n",
       "      <th>1</th>\n",
       "      <td>thanks for the link.  i had seen am english la...</td>\n",
       "      <td>0</td>\n",
       "      <td>thanks for the link i had seen am english lang...</td>\n",
       "    </tr>\n",
       "    <tr>\n",
       "      <th>2</th>\n",
       "      <td>the opening paragraph states that the game is ...</td>\n",
       "      <td>0</td>\n",
       "      <td>the opening paragraph states that the game is ...</td>\n",
       "    </tr>\n",
       "    <tr>\n",
       "      <th>3</th>\n",
       "      <td>most of these schools' entries read straight o...</td>\n",
       "      <td>0</td>\n",
       "      <td>most of these schools entries read straight ou...</td>\n",
       "    </tr>\n",
       "    <tr>\n",
       "      <th>4</th>\n",
       "      <td>cameron ward dj \\n\\nyou have deleted a page th...</td>\n",
       "      <td>0</td>\n",
       "      <td>cameron ward dj you have deleted a page that i...</td>\n",
       "    </tr>\n",
       "  </tbody>\n",
       "</table>\n",
       "</div>"
      ],
      "text/plain": [
       "0                                       comment_text  review_comment  \\\n",
       "0  \"\\n\\n love hina part:3 \\n\\ndamm you and your a...               1   \n",
       "1  thanks for the link.  i had seen am english la...               0   \n",
       "2  the opening paragraph states that the game is ...               0   \n",
       "3  most of these schools' entries read straight o...               0   \n",
       "4  cameron ward dj \\n\\nyou have deleted a page th...               0   \n",
       "\n",
       "0                                            cleaned  \n",
       "0  love hina part damm you and your auto archivin...  \n",
       "1  thanks for the link i had seen am english lang...  \n",
       "2  the opening paragraph states that the game is ...  \n",
       "3  most of these schools entries read straight ou...  \n",
       "4  cameron ward dj you have deleted a page that i...  "
      ]
     },
     "execution_count": 100,
     "metadata": {},
     "output_type": "execute_result"
    }
   ],
   "source": [
    "porter_df.head()"
   ]
  },
  {
   "cell_type": "code",
   "execution_count": 101,
   "id": "95eaaa5e-65d1-431e-9bec-40b645942ac7",
   "metadata": {
    "tags": []
   },
   "outputs": [],
   "source": [
    "# Redefining our function to prepare our dataset\n",
    "def new_prep_data(review):\n",
    "    \n",
    "    #Tokenizing!\n",
    "    review = word_tokenize(review) # From what we have left we seperate terms/words into items in a list\n",
    "\n",
    "    # Cleaning tokens!\n",
    "    # Post Token Cleaning - Stuff that applies to a list\n",
    "    review = [word for word in review if word not in stpwrd] # Keep all the words that are not stopwords\n",
    "    review = [p_stemmer.stem(word) for word in review] # Apply stemmer (e.g 'apples' - 'apple')\n",
    "    review = [word for word in review if word not in stpwrd] # Maybe the stemmer creates a stopword itself - Let's remove them (Probably not that common but good to have)\n",
    "    review = [word for word in review if len(word)>2] # Remove small 1/2 letter words\n",
    "    \n",
    "    return review\n",
    "\n",
    "# Redefining our score_review function\n",
    "def new_score_review(review):\n",
    "    # Step 1:Prepare review - Tokenize\n",
    "    new_review = new_prep_data(review)\n",
    "    \n",
    "    # Step 2: Score the review!\n",
    "    negative_count = sum([1 for i in new_review if i in toxic_words])   # How many sad terms (+=1)\n",
    "    # Try and except brach in case there was an empty review\n",
    "    try:\n",
    "        negative_score = round((negative_count) / len(new_review), 2) # % of terms sad\n",
    "        neutral_score =  round((len(new_review) - negative_count) / len(new_review),2) # Everything else\n",
    "    except ZeroDivisionError: # If empty\n",
    "        neutral_score = 0\n",
    "        negative_score = 0\n",
    "    # Return the sentiment of the review: positve / negative / neutral\n",
    "    return negative_score"
   ]
  },
  {
   "cell_type": "code",
   "execution_count": 102,
   "id": "34b02c37-d0ff-4d98-9a0a-82ff40fc8d3e",
   "metadata": {
    "tags": []
   },
   "outputs": [],
   "source": [
    "# Add score column\n",
    "porter_df['negative_score'] = porter_df['cleaned'].apply(new_score_review)"
   ]
  },
  {
   "cell_type": "code",
   "execution_count": 103,
   "id": "d2d24c37-de18-4c74-8e37-eef25c0eb14c",
   "metadata": {
    "tags": []
   },
   "outputs": [
    {
     "data": {
      "text/html": [
       "<div>\n",
       "<style scoped>\n",
       "    .dataframe tbody tr th:only-of-type {\n",
       "        vertical-align: middle;\n",
       "    }\n",
       "\n",
       "    .dataframe tbody tr th {\n",
       "        vertical-align: top;\n",
       "    }\n",
       "\n",
       "    .dataframe thead th {\n",
       "        text-align: right;\n",
       "    }\n",
       "</style>\n",
       "<table border=\"1\" class=\"dataframe\">\n",
       "  <thead>\n",
       "    <tr style=\"text-align: right;\">\n",
       "      <th></th>\n",
       "      <th>comment_text</th>\n",
       "      <th>review_comment</th>\n",
       "      <th>cleaned</th>\n",
       "      <th>negative_score</th>\n",
       "      <th>pred</th>\n",
       "    </tr>\n",
       "  </thead>\n",
       "  <tbody>\n",
       "    <tr>\n",
       "      <th>32445</th>\n",
       "      <td>it is too long in places, goes into trivia, ye...</td>\n",
       "      <td>0</td>\n",
       "      <td>it is too long in places goes into trivia yet ...</td>\n",
       "      <td>0.05</td>\n",
       "      <td>0</td>\n",
       "    </tr>\n",
       "    <tr>\n",
       "      <th>32446</th>\n",
       "      <td>i'll try using all caps when i do.</td>\n",
       "      <td>0</td>\n",
       "      <td>i try using all caps when i do</td>\n",
       "      <td>0.00</td>\n",
       "      <td>0</td>\n",
       "    </tr>\n",
       "    <tr>\n",
       "      <th>32447</th>\n",
       "      <td>time to drop the stick, drop the nastiness, dr...</td>\n",
       "      <td>0</td>\n",
       "      <td>time to drop the stick drop the nastiness drop...</td>\n",
       "      <td>0.02</td>\n",
       "      <td>0</td>\n",
       "    </tr>\n",
       "    <tr>\n",
       "      <th>32448</th>\n",
       "      <td>file:mr.criminal,2015.jpg listed for deletion ...</td>\n",
       "      <td>0</td>\n",
       "      <td>filemrcriminaljpg listed for deletion a file t...</td>\n",
       "      <td>0.00</td>\n",
       "      <td>0</td>\n",
       "    </tr>\n",
       "    <tr>\n",
       "      <th>32449</th>\n",
       "      <td>view askew \\nyou are right, they should go or ...</td>\n",
       "      <td>0</td>\n",
       "      <td>view askew you are right they should go or the...</td>\n",
       "      <td>0.00</td>\n",
       "      <td>0</td>\n",
       "    </tr>\n",
       "  </tbody>\n",
       "</table>\n",
       "</div>"
      ],
      "text/plain": [
       "0                                           comment_text  review_comment  \\\n",
       "32445  it is too long in places, goes into trivia, ye...               0   \n",
       "32446                 i'll try using all caps when i do.               0   \n",
       "32447  time to drop the stick, drop the nastiness, dr...               0   \n",
       "32448  file:mr.criminal,2015.jpg listed for deletion ...               0   \n",
       "32449  view askew \\nyou are right, they should go or ...               0   \n",
       "\n",
       "0                                                cleaned  negative_score  pred  \n",
       "32445  it is too long in places goes into trivia yet ...            0.05     0  \n",
       "32446                     i try using all caps when i do            0.00     0  \n",
       "32447  time to drop the stick drop the nastiness drop...            0.02     0  \n",
       "32448  filemrcriminaljpg listed for deletion a file t...            0.00     0  \n",
       "32449  view askew you are right they should go or the...            0.00     0  "
      ]
     },
     "execution_count": 103,
     "metadata": {},
     "output_type": "execute_result"
    }
   ],
   "source": [
    "# Create a column with our predictions\n",
    "porter_df['pred'] = porter_df['negative_score'].apply(make_pred)\n",
    "porter_df.tail(5)"
   ]
  },
  {
   "cell_type": "code",
   "execution_count": 104,
   "id": "10ee2d0a-28fa-4c4c-80e3-6a95f5196744",
   "metadata": {
    "tags": []
   },
   "outputs": [
    {
     "name": "stdout",
     "output_type": "stream",
     "text": [
      "Accuracy Score is 81.58397534668721%\n"
     ]
    }
   ],
   "source": [
    "# Apply accuracy checker\n",
    "accuracy_calc(porter_df)"
   ]
  },
  {
   "cell_type": "markdown",
   "id": "ba217de4-815c-433e-9aa8-41801565833a",
   "metadata": {},
   "source": [
    "**Custom Porter model: Accuracy Score is 81.58397534668721%**"
   ]
  },
  {
   "cell_type": "markdown",
   "id": "08fc93c6-1f2e-42ac-b74f-6e580020a281",
   "metadata": {},
   "source": [
    "### 4.11 VADER Sentiment analysis"
   ]
  },
  {
   "cell_type": "code",
   "execution_count": 107,
   "id": "21b2a455-b88f-43f9-a97d-9939ada9c5e2",
   "metadata": {
    "tags": []
   },
   "outputs": [],
   "source": [
    "# # Create a copy of the DF\n",
    "# balanced_df_vader = balanced_df.copy()"
   ]
  },
  {
   "cell_type": "code",
   "execution_count": 108,
   "id": "5f953ac1-6a27-4f2b-8f7f-b263ded2de6f",
   "metadata": {
    "tags": []
   },
   "outputs": [],
   "source": [
    "# # Initialize VADER Sentiment Analyzer\n",
    "# sia = SentimentIntensityAnalyzer()\n",
    "\n",
    "    \n",
    "# def vader_sentiment(comment):\n",
    "#     # Get the sentiment scores\n",
    "#     scores = sia.polarity_scores(comment)\n",
    "#     # Check if the sentiment is negative\n",
    "#     sentiment = 1 if scores['compound'] <= -0.05 else 0 # -0.05 = 72.5793528505393% / -0.4 = 72.24345146379044%\n",
    "#     # Return both the sentiment and the compound score\n",
    "#     return sentiment, scores['compound']\n",
    "    \n",
    "    \n",
    "\n",
    "# # Apply the function to the DataFrame\n",
    "# balanced_df_vader['score'] = balanced_df_vader['cleaned'].apply(vader_sentiment)\n",
    "# balanced_df_vader['pred'] = balanced_df_vader['score'].apply(lambda x: x[0])"
   ]
  },
  {
   "cell_type": "code",
   "execution_count": 109,
   "id": "efa952ec-302e-4ca9-a028-f736746feb55",
   "metadata": {
    "tags": []
   },
   "outputs": [],
   "source": [
    "# balanced_df_vader.head(20)"
   ]
  },
  {
   "cell_type": "code",
   "execution_count": 110,
   "id": "810a8b87-75c9-4d40-9ff7-15848c1054a4",
   "metadata": {
    "tags": []
   },
   "outputs": [],
   "source": [
    "# # Apply accuracy checker\n",
    "# accuracy_calc(balanced_df_vader)"
   ]
  },
  {
   "cell_type": "markdown",
   "id": "06f4e30e-2c41-4e4a-8430-60277794784f",
   "metadata": {},
   "source": [
    "**VADER: Accuracy Score is 72.5793528505393%**"
   ]
  },
  {
   "cell_type": "markdown",
   "id": "db4dfe82-0a23-42c9-89f7-a706f78405e9",
   "metadata": {},
   "source": [
    "**Fine Tuning**"
   ]
  },
  {
   "cell_type": "code",
   "execution_count": 113,
   "id": "95fd5f4c-8c66-4082-a118-0914ac783906",
   "metadata": {},
   "outputs": [],
   "source": [
    "# # Make copy for my data\n",
    "# tuned_df_vader = balanced_df.copy()\n",
    "\n",
    "# # Initialize VADER sentiment analyzer\n",
    "# analyzer = SentimentIntensityAnalyzer()\n",
    "\n",
    "# # Large list of toxic words\n",
    "# # toxic_words - A list of toxic words\n",
    "\n",
    "# # Assign a negative sentiment score to all words in the list\n",
    "# sentiment_score = -0.1\n",
    "# for word in toxic_words:\n",
    "#     analyzer.lexicon[word] = sentiment_score\n",
    "\n",
    "# # Analyze sentiment for each comment in the DataFrame\n",
    "# results = []\n",
    "# for comment in tuned_df_vader['cleaned']:\n",
    "#     sentiment_scores = analyzer.polarity_scores(comment)\n",
    "#     compound_score = sentiment_scores['compound']\n",
    "    \n",
    "#     # Adjust this threshold based on your dataset and needs\n",
    "#     if compound_score >= 0.01:  # Example threshold for non-toxic\n",
    "#         results.append(0)\n",
    "#     else:\n",
    "#         results.append(1)\n",
    "\n",
    "# # Add the results to the DataFrame\n",
    "# tuned_df_vader['pred'] = results\n",
    "\n",
    "# # Display the updated DataFrame\n",
    "# accuracy_calc(tuned_df_vader) "
   ]
  },
  {
   "cell_type": "code",
   "execution_count": 114,
   "id": "a8b9c2d1-a46d-4266-b03d-589df8204560",
   "metadata": {},
   "outputs": [],
   "source": [
    "# Accuracy vs altering the threshold\n",
    "# compound_score >= 0.01 -> Accuracy Score is 61.42681047765793%\n",
    "# compound_score >= 0.05 -> Accuracy Score is 61.49152542372881%\n",
    "# compound_score >= 0.1 -> Accuracy Score is 61.315870570107855%\n",
    "# compound_score >= 0.2 -> Accuracy Score is 61.21417565485362%\n",
    "# compound_score >= 0.5 -> Accuracy Score is 58.99845916795069%"
   ]
  },
  {
   "cell_type": "markdown",
   "id": "17f86024-5e0d-4ecb-b5db-d88c3f7b6c75",
   "metadata": {},
   "source": [
    "**Note** It is suprising that we find when add our lexicon of toxic words to vaders lexicon of words we get a worst result (even when adjusting the threshold)."
   ]
  },
  {
   "cell_type": "markdown",
   "id": "d992fed9-8c8b-44fa-a48c-647dc8bb8868",
   "metadata": {},
   "source": [
    "**VADER (with toxic lexicon) Highest accuracy: 61.49152542372881%** <br/>compound_score >= 0.05"
   ]
  },
  {
   "cell_type": "markdown",
   "id": "95a0d08a-85ca-40d5-9560-7927fb247380",
   "metadata": {
    "tags": []
   },
   "source": [
    "### 4.12 BERT Sentiment analysis"
   ]
  },
  {
   "cell_type": "code",
   "execution_count": 118,
   "id": "02b121f3-ffd4-4c2e-a8f7-0d41a32e1d14",
   "metadata": {
    "tags": []
   },
   "outputs": [],
   "source": [
    "# # Create a copy of the DF\n",
    "# balanced_df_bert = balanced_df.copy()"
   ]
  },
  {
   "cell_type": "code",
   "execution_count": 119,
   "id": "b87f2c15-98a1-4361-8792-de676497965f",
   "metadata": {
    "tags": []
   },
   "outputs": [],
   "source": [
    "# balanced_df_bert"
   ]
  },
  {
   "cell_type": "code",
   "execution_count": 120,
   "id": "4e89f5dd-77a6-4496-8c5d-4fb0f5df486e",
   "metadata": {
    "tags": []
   },
   "outputs": [],
   "source": [
    "# # Intitialise bert model and tokeniser\n",
    "# model_name = 'bert-base-uncased'\n",
    "# tokenizer = BertTokenizer.from_pretrained(model_name)\n",
    "# model = BertForSequenceClassification.from_pretrained(model_name, num_labels=2)  # num_labels=2 for binary classification"
   ]
  },
  {
   "cell_type": "code",
   "execution_count": 121,
   "id": "8f139958-24d3-4bf7-8b24-3b60834c8de1",
   "metadata": {
    "tags": []
   },
   "outputs": [],
   "source": [
    "# def bert_sentiment(comment, threshold=0.5):  # Added threshold parameter with default value 0.5\n",
    "#     inputs = tokenizer(comment, return_tensors='pt', truncation=True, padding=True, max_length=512)\n",
    "#     outputs = model(**inputs)\n",
    "#     logits = outputs.logits\n",
    "#     toxicity_score = torch.sigmoid(logits).tolist()[0][1]  # Probability of the toxic class\n",
    "#     predicted_class = 1 if toxicity_score >= threshold else 0  # Use custom threshold for classification\n",
    "#     return toxicity_score, predicted_class\n",
    "\n",
    "# # Apply the function to classify each comment and extract scores\n",
    "# threshold = 0.7  # Set custom threshold\n",
    "# balanced_df_bert['toxicity_score'], balanced_df_bert['pred'] = zip(*balanced_df_bert['comment_text'].apply(lambda x: bert_sentiment(x, threshold=threshold)))\n",
    "# balanced_df_bert['toxicity'] = balanced_df_bert['pred'].map({0: 'Non-toxic', 1: 'Toxic'})\n"
   ]
  },
  {
   "cell_type": "code",
   "execution_count": 122,
   "id": "39b41314-8dac-4efb-8f6c-ad77fd57f73d",
   "metadata": {
    "tags": []
   },
   "outputs": [],
   "source": [
    "# # Threshold adjuster\n",
    "# # Define the threshold\n",
    "# threshold = 0.53\n",
    "\n",
    "# # Create a new column 'pred' where 0 is assigned if 'toxicity_score' is below the threshold, and 1 if above\n",
    "# balanced_df_bert['pred'] = balanced_df_bert['toxicity_score'].apply(lambda x: 1 if x > threshold else 0)\n",
    "\n",
    "# print(balanced_df_bert)"
   ]
  },
  {
   "cell_type": "code",
   "execution_count": 123,
   "id": "6a7d5844-6d40-430f-b6fe-d091ba8315ce",
   "metadata": {
    "tags": []
   },
   "outputs": [],
   "source": [
    "# balanced_df_bert.tail(10)"
   ]
  },
  {
   "cell_type": "code",
   "execution_count": 124,
   "id": "8ca01cd7-854b-4381-8084-29266d113355",
   "metadata": {
    "tags": []
   },
   "outputs": [],
   "source": [
    "# accuracy_calc(balanced_df_bert) # Accuracy Score is 58.71494607087827%"
   ]
  },
  {
   "cell_type": "markdown",
   "id": "d96b294b-e2c3-428b-88b4-530c31735769",
   "metadata": {},
   "source": [
    "**Accuracy Score is 58.71494607087827%**"
   ]
  },
  {
   "cell_type": "markdown",
   "id": "2b4a9aed-a34d-4a28-83f2-2e55446c8d25",
   "metadata": {},
   "source": [
    "**Fine Tuning** - **Failed** (Process took too long 5% after around 1hr)"
   ]
  },
  {
   "cell_type": "code",
   "execution_count": 127,
   "id": "69c2ef06-fbcb-4d5d-8596-3a0e9169efd7",
   "metadata": {
    "tags": []
   },
   "outputs": [],
   "source": [
    "# from transformers import BertTokenizer, BertForSequenceClassification, AdamW\n",
    "# from sklearn.model_selection import train_test_split\n",
    "# from sklearn.metrics import accuracy_score, classification_report\n",
    "# from torch.utils.data import TensorDataset, DataLoader, RandomSampler, SequentialSampler\n",
    "# from tqdm import tqdm\n",
    "\n",
    "# # Assuming balanced_df_bert is your DataFrame with columns 'cleaned', 'pred', and 'review_comment'\n",
    "# # Example data preparation\n",
    "# # balanced_df_bert = pd.read_csv('your_training_dataset.csv')\n",
    "\n",
    "# # Step 1: Tokenization\n",
    "# tokenizer = BertTokenizer.from_pretrained('bert-base-uncased')\n",
    "\n",
    "# # Tokenize and encode sequences\n",
    "# encoded_data = tokenizer.batch_encode_plus(\n",
    "#     balanced_df_bert['cleaned'].tolist(),\n",
    "#     add_special_tokens=True,\n",
    "#     return_attention_mask=True,\n",
    "#     padding='longest',    # Pad to longest sequence in the batch\n",
    "#     truncation=True,      # Explicitly truncate examples to max_length\n",
    "#     max_length=256,\n",
    "#     return_tensors='pt'\n",
    "# )\n",
    "\n",
    "# input_ids = encoded_data['input_ids']\n",
    "# attention_masks = encoded_data['attention_mask']\n",
    "# labels = torch.tensor(balanced_df_bert['pred'].tolist())\n",
    "\n",
    "# # Step 2: Create DataLoader\n",
    "# batch_size = 32\n",
    "\n",
    "# dataset = TensorDataset(input_ids, attention_masks, labels)\n",
    "# train_size = int(0.9 * len(dataset))\n",
    "# val_size = len(dataset) - train_size\n",
    "\n",
    "# train_dataset, val_dataset = torch.utils.data.random_split(dataset, [train_size, val_size])\n",
    "\n",
    "# train_dataloader = DataLoader(train_dataset, sampler=RandomSampler(train_dataset), batch_size=batch_size)\n",
    "# val_dataloader = DataLoader(val_dataset, sampler=SequentialSampler(val_dataset), batch_size=batch_size)\n",
    "\n",
    "# # Step 3: Fine-tuning BERT\n",
    "# device = torch.device('cuda' if torch.cuda.is_available() else 'cpu')\n",
    "# model = BertForSequenceClassification.from_pretrained('bert-base-uncased', num_labels=2)\n",
    "# model.to(device)\n",
    "\n",
    "# optimizer = AdamW(model.parameters(), lr=2e-5)\n",
    "\n",
    "# epochs = 3\n",
    "# for epoch in range(epochs):\n",
    "#     model.train()\n",
    "#     total_loss = 0\n",
    "\n",
    "#     for batch in tqdm(train_dataloader, desc=f'Epoch {epoch + 1}/{epochs}'):\n",
    "#         batch = tuple(t.to(device) for t in batch)\n",
    "#         inputs = {'input_ids': batch[0], 'attention_mask': batch[1], 'labels': batch[2]}\n",
    "#         optimizer.zero_grad()\n",
    "#         outputs = model(**inputs)\n",
    "#         loss = outputs.loss\n",
    "#         total_loss += loss.item()\n",
    "#         loss.backward()\n",
    "#         optimizer.step()\n",
    "\n",
    "#     avg_train_loss = total_loss / len(train_dataloader)\n",
    "#     print(f'Average Train Loss: {avg_train_loss}')\n",
    "\n",
    "#     # Validation\n",
    "#     model.eval()\n",
    "#     eval_loss, eval_accuracy = 0, 0\n",
    "#     nb_eval_steps, nb_eval_examples = 0, 0\n",
    "#     predictions , true_labels = [], []\n",
    "\n",
    "#     for batch in val_dataloader:\n",
    "#         batch = tuple(t.to(device) for t in batch)\n",
    "#         inputs = {'input_ids': batch[0], 'attention_mask': batch[1], 'labels': batch[2]}\n",
    "#         with torch.no_grad():\n",
    "#             outputs = model(**inputs)\n",
    "#         logits = outputs.logits\n",
    "#         logits = logits.detach().cpu().numpy()\n",
    "#         label_ids = inputs['labels'].cpu().numpy()\n",
    "#         predictions.extend(np.argmax(logits, axis=1))\n",
    "#         true_labels.extend(label_ids)\n",
    "\n",
    "#     eval_accuracy = accuracy_score(true_labels, predictions)\n",
    "# _df_bert    print(f'Validation Accuracy: {eval_accuracy}')"
   ]
  },
  {
   "cell_type": "markdown",
   "id": "7683f9f8-099a-4e2c-bc01-7ca672ac3e74",
   "metadata": {},
   "source": [
    "## 4.2 Sentiment Analysis on Test"
   ]
  },
  {
   "cell_type": "code",
   "execution_count": 129,
   "id": "4e138554-a74f-43c9-9c0c-b9464774776a",
   "metadata": {},
   "outputs": [],
   "source": [
    "# Create a copy of the DF\n",
    "best_test_df = test_df.copy()"
   ]
  },
  {
   "cell_type": "code",
   "execution_count": 130,
   "id": "ec3da8a6-1060-4031-af5a-319f9ab11610",
   "metadata": {
    "tags": []
   },
   "outputs": [
    {
     "data": {
      "text/html": [
       "<div>\n",
       "<style scoped>\n",
       "    .dataframe tbody tr th:only-of-type {\n",
       "        vertical-align: middle;\n",
       "    }\n",
       "\n",
       "    .dataframe tbody tr th {\n",
       "        vertical-align: top;\n",
       "    }\n",
       "\n",
       "    .dataframe thead th {\n",
       "        text-align: right;\n",
       "    }\n",
       "</style>\n",
       "<table border=\"1\" class=\"dataframe\">\n",
       "  <thead>\n",
       "    <tr style=\"text-align: right;\">\n",
       "      <th></th>\n",
       "      <th>comment_text</th>\n",
       "      <th>review_comment</th>\n",
       "    </tr>\n",
       "    <tr>\n",
       "      <th>id</th>\n",
       "      <th></th>\n",
       "      <th></th>\n",
       "    </tr>\n",
       "  </thead>\n",
       "  <tbody>\n",
       "    <tr>\n",
       "      <th>0001ea8717f6de06</th>\n",
       "      <td>Thank you for understanding. I think very high...</td>\n",
       "      <td>0</td>\n",
       "    </tr>\n",
       "    <tr>\n",
       "      <th>000247e83dcc1211</th>\n",
       "      <td>:Dear god this site is horrible.</td>\n",
       "      <td>0</td>\n",
       "    </tr>\n",
       "    <tr>\n",
       "      <th>0002f87b16116a7f</th>\n",
       "      <td>\"::: Somebody will invariably try to add Relig...</td>\n",
       "      <td>0</td>\n",
       "    </tr>\n",
       "    <tr>\n",
       "      <th>0003e1cccfd5a40a</th>\n",
       "      <td>\" \\n\\n It says it right there that it IS a typ...</td>\n",
       "      <td>0</td>\n",
       "    </tr>\n",
       "    <tr>\n",
       "      <th>00059ace3e3e9a53</th>\n",
       "      <td>\" \\n\\n == Before adding a new product to the l...</td>\n",
       "      <td>0</td>\n",
       "    </tr>\n",
       "  </tbody>\n",
       "</table>\n",
       "</div>"
      ],
      "text/plain": [
       "0                                                      comment_text  \\\n",
       "id                                                                    \n",
       "0001ea8717f6de06  Thank you for understanding. I think very high...   \n",
       "000247e83dcc1211                   :Dear god this site is horrible.   \n",
       "0002f87b16116a7f  \"::: Somebody will invariably try to add Relig...   \n",
       "0003e1cccfd5a40a  \" \\n\\n It says it right there that it IS a typ...   \n",
       "00059ace3e3e9a53  \" \\n\\n == Before adding a new product to the l...   \n",
       "\n",
       "0                 review_comment  \n",
       "id                                \n",
       "0001ea8717f6de06               0  \n",
       "000247e83dcc1211               0  \n",
       "0002f87b16116a7f               0  \n",
       "0003e1cccfd5a40a               0  \n",
       "00059ace3e3e9a53               0  "
      ]
     },
     "execution_count": 130,
     "metadata": {},
     "output_type": "execute_result"
    }
   ],
   "source": [
    "best_test_df.head()"
   ]
  },
  {
   "cell_type": "code",
   "execution_count": 131,
   "id": "da9ed913-b2bc-49cf-bb8d-6490d066ffe7",
   "metadata": {
    "tags": []
   },
   "outputs": [
    {
     "data": {
      "text/html": [
       "<div>\n",
       "<style scoped>\n",
       "    .dataframe tbody tr th:only-of-type {\n",
       "        vertical-align: middle;\n",
       "    }\n",
       "\n",
       "    .dataframe tbody tr th {\n",
       "        vertical-align: top;\n",
       "    }\n",
       "\n",
       "    .dataframe thead th {\n",
       "        text-align: right;\n",
       "    }\n",
       "</style>\n",
       "<table border=\"1\" class=\"dataframe\">\n",
       "  <thead>\n",
       "    <tr style=\"text-align: right;\">\n",
       "      <th></th>\n",
       "      <th>comment_text</th>\n",
       "      <th>review_comment</th>\n",
       "    </tr>\n",
       "    <tr>\n",
       "      <th>id</th>\n",
       "      <th></th>\n",
       "      <th></th>\n",
       "    </tr>\n",
       "  </thead>\n",
       "  <tbody>\n",
       "    <tr>\n",
       "      <th>0001ea8717f6de06</th>\n",
       "      <td>thank you for understanding. i think very high...</td>\n",
       "      <td>0</td>\n",
       "    </tr>\n",
       "    <tr>\n",
       "      <th>000247e83dcc1211</th>\n",
       "      <td>:dear god this site is horrible.</td>\n",
       "      <td>0</td>\n",
       "    </tr>\n",
       "    <tr>\n",
       "      <th>0002f87b16116a7f</th>\n",
       "      <td>\"::: somebody will invariably try to add relig...</td>\n",
       "      <td>0</td>\n",
       "    </tr>\n",
       "    <tr>\n",
       "      <th>0003e1cccfd5a40a</th>\n",
       "      <td>\" \\n\\n it says it right there that it is a typ...</td>\n",
       "      <td>0</td>\n",
       "    </tr>\n",
       "    <tr>\n",
       "      <th>00059ace3e3e9a53</th>\n",
       "      <td>\" \\n\\n == before adding a new product to the l...</td>\n",
       "      <td>0</td>\n",
       "    </tr>\n",
       "  </tbody>\n",
       "</table>\n",
       "</div>"
      ],
      "text/plain": [
       "0                                                      comment_text  \\\n",
       "id                                                                    \n",
       "0001ea8717f6de06  thank you for understanding. i think very high...   \n",
       "000247e83dcc1211                   :dear god this site is horrible.   \n",
       "0002f87b16116a7f  \"::: somebody will invariably try to add relig...   \n",
       "0003e1cccfd5a40a  \" \\n\\n it says it right there that it is a typ...   \n",
       "00059ace3e3e9a53  \" \\n\\n == before adding a new product to the l...   \n",
       "\n",
       "0                 review_comment  \n",
       "id                                \n",
       "0001ea8717f6de06               0  \n",
       "000247e83dcc1211               0  \n",
       "0002f87b16116a7f               0  \n",
       "0003e1cccfd5a40a               0  \n",
       "00059ace3e3e9a53               0  "
      ]
     },
     "execution_count": 131,
     "metadata": {},
     "output_type": "execute_result"
    }
   ],
   "source": [
    "# Apply the preprocess_text function to the 'text_column' and replace it with the processed text\n",
    "best_test_df['comment_text'] = best_test_df['comment_text'].apply(lambda x: preprocess_text(x))\n",
    "\n",
    "# Display the DataFrame\n",
    "best_test_df.head()"
   ]
  },
  {
   "cell_type": "code",
   "execution_count": 132,
   "id": "bd7011ce-3276-4ec2-9a83-6b182d268865",
   "metadata": {
    "tags": []
   },
   "outputs": [],
   "source": [
    "# Clean th comments and make a new column\n",
    "clean_comments(best_test_df)"
   ]
  },
  {
   "cell_type": "code",
   "execution_count": 133,
   "id": "4e3d0563-6a5a-433e-b36a-c85e4033fda4",
   "metadata": {
    "tags": []
   },
   "outputs": [
    {
     "data": {
      "text/html": [
       "<div>\n",
       "<style scoped>\n",
       "    .dataframe tbody tr th:only-of-type {\n",
       "        vertical-align: middle;\n",
       "    }\n",
       "\n",
       "    .dataframe tbody tr th {\n",
       "        vertical-align: top;\n",
       "    }\n",
       "\n",
       "    .dataframe thead th {\n",
       "        text-align: right;\n",
       "    }\n",
       "</style>\n",
       "<table border=\"1\" class=\"dataframe\">\n",
       "  <thead>\n",
       "    <tr style=\"text-align: right;\">\n",
       "      <th></th>\n",
       "      <th>comment_text</th>\n",
       "      <th>review_comment</th>\n",
       "      <th>cleaned</th>\n",
       "    </tr>\n",
       "    <tr>\n",
       "      <th>id</th>\n",
       "      <th></th>\n",
       "      <th></th>\n",
       "      <th></th>\n",
       "    </tr>\n",
       "  </thead>\n",
       "  <tbody>\n",
       "    <tr>\n",
       "      <th>0001ea8717f6de06</th>\n",
       "      <td>thank you for understanding. i think very high...</td>\n",
       "      <td>0</td>\n",
       "      <td>thank you for understanding i think very highl...</td>\n",
       "    </tr>\n",
       "    <tr>\n",
       "      <th>000247e83dcc1211</th>\n",
       "      <td>:dear god this site is horrible.</td>\n",
       "      <td>0</td>\n",
       "      <td>dear god this site is horrible</td>\n",
       "    </tr>\n",
       "    <tr>\n",
       "      <th>0002f87b16116a7f</th>\n",
       "      <td>\"::: somebody will invariably try to add relig...</td>\n",
       "      <td>0</td>\n",
       "      <td>somebody will invariably try to add religion r...</td>\n",
       "    </tr>\n",
       "    <tr>\n",
       "      <th>0003e1cccfd5a40a</th>\n",
       "      <td>\" \\n\\n it says it right there that it is a typ...</td>\n",
       "      <td>0</td>\n",
       "      <td>it says it right there that it is a type the t...</td>\n",
       "    </tr>\n",
       "    <tr>\n",
       "      <th>00059ace3e3e9a53</th>\n",
       "      <td>\" \\n\\n == before adding a new product to the l...</td>\n",
       "      <td>0</td>\n",
       "      <td>before adding a new product to the list make s...</td>\n",
       "    </tr>\n",
       "  </tbody>\n",
       "</table>\n",
       "</div>"
      ],
      "text/plain": [
       "0                                                      comment_text  \\\n",
       "id                                                                    \n",
       "0001ea8717f6de06  thank you for understanding. i think very high...   \n",
       "000247e83dcc1211                   :dear god this site is horrible.   \n",
       "0002f87b16116a7f  \"::: somebody will invariably try to add relig...   \n",
       "0003e1cccfd5a40a  \" \\n\\n it says it right there that it is a typ...   \n",
       "00059ace3e3e9a53  \" \\n\\n == before adding a new product to the l...   \n",
       "\n",
       "0                 review_comment  \\\n",
       "id                                 \n",
       "0001ea8717f6de06               0   \n",
       "000247e83dcc1211               0   \n",
       "0002f87b16116a7f               0   \n",
       "0003e1cccfd5a40a               0   \n",
       "00059ace3e3e9a53               0   \n",
       "\n",
       "0                                                           cleaned  \n",
       "id                                                                   \n",
       "0001ea8717f6de06  thank you for understanding i think very highl...  \n",
       "000247e83dcc1211                     dear god this site is horrible  \n",
       "0002f87b16116a7f  somebody will invariably try to add religion r...  \n",
       "0003e1cccfd5a40a  it says it right there that it is a type the t...  \n",
       "00059ace3e3e9a53  before adding a new product to the list make s...  "
      ]
     },
     "execution_count": 133,
     "metadata": {},
     "output_type": "execute_result"
    }
   ],
   "source": [
    "best_test_df.head()"
   ]
  },
  {
   "cell_type": "code",
   "execution_count": 134,
   "id": "1e0d4133-7cda-4ad9-9f67-11d93fbec07a",
   "metadata": {
    "tags": []
   },
   "outputs": [],
   "source": [
    "# Add score column\n",
    "best_test_df['negative_score'] = best_test_df['cleaned'].apply(new_score_review)"
   ]
  },
  {
   "cell_type": "code",
   "execution_count": 135,
   "id": "303f8197-683b-48f0-a3f7-0ca1821af08b",
   "metadata": {
    "tags": []
   },
   "outputs": [
    {
     "data": {
      "text/html": [
       "<div>\n",
       "<style scoped>\n",
       "    .dataframe tbody tr th:only-of-type {\n",
       "        vertical-align: middle;\n",
       "    }\n",
       "\n",
       "    .dataframe tbody tr th {\n",
       "        vertical-align: top;\n",
       "    }\n",
       "\n",
       "    .dataframe thead th {\n",
       "        text-align: right;\n",
       "    }\n",
       "</style>\n",
       "<table border=\"1\" class=\"dataframe\">\n",
       "  <thead>\n",
       "    <tr style=\"text-align: right;\">\n",
       "      <th></th>\n",
       "      <th>comment_text</th>\n",
       "      <th>review_comment</th>\n",
       "      <th>cleaned</th>\n",
       "      <th>negative_score</th>\n",
       "      <th>pred</th>\n",
       "    </tr>\n",
       "    <tr>\n",
       "      <th>id</th>\n",
       "      <th></th>\n",
       "      <th></th>\n",
       "      <th></th>\n",
       "      <th></th>\n",
       "      <th></th>\n",
       "    </tr>\n",
       "  </thead>\n",
       "  <tbody>\n",
       "    <tr>\n",
       "      <th>fff69311f306df44</th>\n",
       "      <td>balancing the two approaches to psychiatry ( b...</td>\n",
       "      <td>0</td>\n",
       "      <td>balancing the two approaches to psychiatry bio...</td>\n",
       "      <td>0.00</td>\n",
       "      <td>0</td>\n",
       "    </tr>\n",
       "    <tr>\n",
       "      <th>fff7159b3ee95618</th>\n",
       "      <td>== your name mentioned == \\n hi, i just though...</td>\n",
       "      <td>0</td>\n",
       "      <td>your name mentioned hi i just thought of letti...</td>\n",
       "      <td>0.00</td>\n",
       "      <td>0</td>\n",
       "    </tr>\n",
       "    <tr>\n",
       "      <th>fff718ffe5f05559</th>\n",
       "      <td>i've just discovered yet another list: list of...</td>\n",
       "      <td>0</td>\n",
       "      <td>i just discovered yet another list list of com...</td>\n",
       "      <td>0.00</td>\n",
       "      <td>0</td>\n",
       "    </tr>\n",
       "    <tr>\n",
       "      <th>fff83b80284d8440</th>\n",
       "      <td>::consensus for ruining wikipedia? i think tha...</td>\n",
       "      <td>0</td>\n",
       "      <td>consensus for ruining wikipedia i think that c...</td>\n",
       "      <td>0.40</td>\n",
       "      <td>1</td>\n",
       "    </tr>\n",
       "    <tr>\n",
       "      <th>fff8f521a7dbcd47</th>\n",
       "      <td>shut down the mexican border withought looking...</td>\n",
       "      <td>0</td>\n",
       "      <td>shut down the mexican border withought looking...</td>\n",
       "      <td>0.00</td>\n",
       "      <td>0</td>\n",
       "    </tr>\n",
       "    <tr>\n",
       "      <th>fff8f64043129fa2</th>\n",
       "      <td>:jerome, i see you never got around to this…! ...</td>\n",
       "      <td>0</td>\n",
       "      <td>jerome i see you never got around to this i no...</td>\n",
       "      <td>0.00</td>\n",
       "      <td>0</td>\n",
       "    </tr>\n",
       "    <tr>\n",
       "      <th>fff9d70fe0722906</th>\n",
       "      <td>==lucky bastard== \\n http://wikimediafoundatio...</td>\n",
       "      <td>0</td>\n",
       "      <td>lucky bastard httpwikimediafoundationorgwikipr...</td>\n",
       "      <td>0.12</td>\n",
       "      <td>1</td>\n",
       "    </tr>\n",
       "    <tr>\n",
       "      <th>fffa8a11c4378854</th>\n",
       "      <td>==shame on you all!!!== \\n\\n you want to speak...</td>\n",
       "      <td>0</td>\n",
       "      <td>shame on you all you want to speak about gays ...</td>\n",
       "      <td>0.17</td>\n",
       "      <td>1</td>\n",
       "    </tr>\n",
       "    <tr>\n",
       "      <th>fffac2a094c8e0e2</th>\n",
       "      <td>mel gibson is a nazi bitch who makes shitty mo...</td>\n",
       "      <td>1</td>\n",
       "      <td>mel gibson is a nazi bitch who makes shitty mo...</td>\n",
       "      <td>0.29</td>\n",
       "      <td>1</td>\n",
       "    </tr>\n",
       "    <tr>\n",
       "      <th>fffb5451268fb5ba</th>\n",
       "      <td>\" \\n\\n == unicorn lair discovery == \\n\\n suppo...</td>\n",
       "      <td>0</td>\n",
       "      <td>unicorn lair discovery supposedly a unicorn la...</td>\n",
       "      <td>0.00</td>\n",
       "      <td>0</td>\n",
       "    </tr>\n",
       "  </tbody>\n",
       "</table>\n",
       "</div>"
      ],
      "text/plain": [
       "0                                                      comment_text  \\\n",
       "id                                                                    \n",
       "fff69311f306df44  balancing the two approaches to psychiatry ( b...   \n",
       "fff7159b3ee95618  == your name mentioned == \\n hi, i just though...   \n",
       "fff718ffe5f05559  i've just discovered yet another list: list of...   \n",
       "fff83b80284d8440  ::consensus for ruining wikipedia? i think tha...   \n",
       "fff8f521a7dbcd47  shut down the mexican border withought looking...   \n",
       "fff8f64043129fa2  :jerome, i see you never got around to this…! ...   \n",
       "fff9d70fe0722906  ==lucky bastard== \\n http://wikimediafoundatio...   \n",
       "fffa8a11c4378854  ==shame on you all!!!== \\n\\n you want to speak...   \n",
       "fffac2a094c8e0e2  mel gibson is a nazi bitch who makes shitty mo...   \n",
       "fffb5451268fb5ba  \" \\n\\n == unicorn lair discovery == \\n\\n suppo...   \n",
       "\n",
       "0                 review_comment  \\\n",
       "id                                 \n",
       "fff69311f306df44               0   \n",
       "fff7159b3ee95618               0   \n",
       "fff718ffe5f05559               0   \n",
       "fff83b80284d8440               0   \n",
       "fff8f521a7dbcd47               0   \n",
       "fff8f64043129fa2               0   \n",
       "fff9d70fe0722906               0   \n",
       "fffa8a11c4378854               0   \n",
       "fffac2a094c8e0e2               1   \n",
       "fffb5451268fb5ba               0   \n",
       "\n",
       "0                                                           cleaned  \\\n",
       "id                                                                    \n",
       "fff69311f306df44  balancing the two approaches to psychiatry bio...   \n",
       "fff7159b3ee95618  your name mentioned hi i just thought of letti...   \n",
       "fff718ffe5f05559  i just discovered yet another list list of com...   \n",
       "fff83b80284d8440  consensus for ruining wikipedia i think that c...   \n",
       "fff8f521a7dbcd47  shut down the mexican border withought looking...   \n",
       "fff8f64043129fa2  jerome i see you never got around to this i no...   \n",
       "fff9d70fe0722906  lucky bastard httpwikimediafoundationorgwikipr...   \n",
       "fffa8a11c4378854  shame on you all you want to speak about gays ...   \n",
       "fffac2a094c8e0e2  mel gibson is a nazi bitch who makes shitty mo...   \n",
       "fffb5451268fb5ba  unicorn lair discovery supposedly a unicorn la...   \n",
       "\n",
       "0                 negative_score  pred  \n",
       "id                                      \n",
       "fff69311f306df44            0.00     0  \n",
       "fff7159b3ee95618            0.00     0  \n",
       "fff718ffe5f05559            0.00     0  \n",
       "fff83b80284d8440            0.40     1  \n",
       "fff8f521a7dbcd47            0.00     0  \n",
       "fff8f64043129fa2            0.00     0  \n",
       "fff9d70fe0722906            0.12     1  \n",
       "fffa8a11c4378854            0.17     1  \n",
       "fffac2a094c8e0e2            0.29     1  \n",
       "fffb5451268fb5ba            0.00     0  "
      ]
     },
     "execution_count": 135,
     "metadata": {},
     "output_type": "execute_result"
    }
   ],
   "source": [
    "# Create a column with our predictions\n",
    "best_test_df['pred'] = best_test_df['negative_score'].apply(make_pred)\n",
    "best_test_df.tail(10)"
   ]
  },
  {
   "cell_type": "code",
   "execution_count": 136,
   "id": "bb47581e-ce1c-4295-add5-91e16b355f78",
   "metadata": {
    "tags": []
   },
   "outputs": [
    {
     "name": "stdout",
     "output_type": "stream",
     "text": [
      "Accuracy Score is 88.24908562318296%\n"
     ]
    }
   ],
   "source": [
    "# Apply accuracy checker\n",
    "accuracy_calc(best_test_df)"
   ]
  },
  {
   "cell_type": "markdown",
   "id": "548ef1eb-e8f3-4a58-a406-da095ba3d9be",
   "metadata": {},
   "source": [
    "**Accuracy Score on test is 88.24908562318296%**"
   ]
  },
  {
   "cell_type": "markdown",
   "id": "f7cd409d-ae1d-4ce0-9a67-aa146b49a433",
   "metadata": {},
   "source": [
    "## 5.0 Performance Analysis"
   ]
  },
  {
   "cell_type": "markdown",
   "id": "b9118ec5-b36c-496c-a839-9be8e335ebd5",
   "metadata": {
    "tags": []
   },
   "source": [
    "The best performing model, achieving an accuracy score of 88.25%, was custom-built using the Porter Stemmer and adapted to handle stopwords effectively."
   ]
  },
  {
   "cell_type": "code",
   "execution_count": 140,
   "id": "65e699a6-bbe7-4cae-a471-14a5978aad5e",
   "metadata": {
    "tags": []
   },
   "outputs": [
    {
     "name": "stdout",
     "output_type": "stream",
     "text": [
      "[[51493  6242]\n",
      " [ 1276  4967]]\n"
     ]
    }
   ],
   "source": [
    "\n",
    "print(metrics.confusion_matrix(best_test_df['review_comment'], #Actual\n",
    "                               best_test_df['pred'])) # Predicted"
   ]
  },
  {
   "cell_type": "code",
   "execution_count": 141,
   "id": "2d57ed04-82ee-422a-b994-2182de6cac9d",
   "metadata": {
    "tags": []
   },
   "outputs": [],
   "source": [
    "# There are 4 main metrics we're interested in at this stage: accuracy, precision, recall and F1.\n",
    "# The 'metrics' module from sklearn covers all of them (and more!) So we can use a function like the one below\n",
    "\n",
    "def get_results(actual, predicted):\n",
    "    print(\"The confusion matrix for your predictions is:\")\n",
    "    print(metrics.confusion_matrix(actual, predicted), \"\\n\")\n",
    "    print(f'The accuracy of your model is: {metrics.accuracy_score(actual, predicted)}')\n",
    "    print(f'The recall of your model is: {metrics.recall_score(actual, predicted)}')\n",
    "    print(f'The precision of your model is: {metrics.precision_score(actual, predicted)}')\n",
    "    print(f'The F1-score of your model is: {metrics.f1_score(actual, predicted)}')"
   ]
  },
  {
   "cell_type": "code",
   "execution_count": 142,
   "id": "23de2790-e428-4348-bd61-31e328c684c3",
   "metadata": {
    "tags": []
   },
   "outputs": [
    {
     "name": "stdout",
     "output_type": "stream",
     "text": [
      "The confusion matrix for your predictions is:\n",
      "[[51493  6242]\n",
      " [ 1276  4967]] \n",
      "\n",
      "The accuracy of your model is: 0.8824908562318297\n",
      "The recall of your model is: 0.7956110844145443\n",
      "The precision of your model is: 0.44312605941654026\n",
      "The F1-score of your model is: 0.5692184276873711\n"
     ]
    }
   ],
   "source": [
    "# Now, we simply apply the function on our predictions\n",
    "get_results(best_test_df['review_comment'], best_test_df['pred'])"
   ]
  },
  {
   "cell_type": "code",
   "execution_count": 143,
   "id": "efa922d7-ba46-40d7-85d8-95a110d34417",
   "metadata": {
    "tags": []
   },
   "outputs": [
    {
     "data": {
      "text/plain": [
       "<Figure size 800x600 with 0 Axes>"
      ]
     },
     "metadata": {},
     "output_type": "display_data"
    },
    {
     "data": {
      "image/png": "[encoded data removed]",
      "text/plain": [
       "<Figure size 640x480 with 2 Axes>"
      ]
     },
     "metadata": {},
     "output_type": "display_data"
    }
   ],
   "source": [
    "# Assuming best_test_df['review_comment'] and best_test_df['pred'] are your true and predicted labels\n",
    "cm = confusion_matrix(best_test_df['review_comment'], best_test_df['pred'])\n",
    "\n",
    "# Save the confusion matrix as a variable\n",
    "cm_matrix = cm\n",
    "\n",
    "# Plot confusion matrix with adjusted parameters\n",
    "plt.figure(figsize=(8, 6))  # Adjust figure size as needed\n",
    "\n",
    "disp = ConfusionMatrixDisplay(confusion_matrix=cm_matrix, display_labels=['Non-toxic', 'Toxic'])\n",
    "\n",
    "# Plot with blue color scheme\n",
    "disp.plot(cmap=plt.cm.Blues)\n",
    "\n",
    "plt.title('Confusion Matrix')\n",
    "plt.xlabel('Predicted label')\n",
    "plt.ylabel('True label')\n",
    "plt.xticks(rotation=45)\n",
    "plt.yticks(rotation=0)\n",
    "plt.tight_layout()\n",
    "\n",
    "plt.show()"
   ]
  },
  {
   "cell_type": "code",
   "execution_count": 144,
   "id": "f0e999e3-5619-42aa-a8aa-6ee9b71e9cbc",
   "metadata": {
    "tags": []
   },
   "outputs": [
    {
     "data": {
      "text/plain": [
       "<Figure size 800x600 with 0 Axes>"
      ]
     },
     "metadata": {},
     "output_type": "display_data"
    },
    {
     "data": {
      "image/png": "[encoded data removed]",
      "text/plain": [
       "<Figure size 640x480 with 2 Axes>"
      ]
     },
     "metadata": {},
     "output_type": "display_data"
    }
   ],
   "source": [
    "# Assuming best_test_df['review_comment'] and best_test_df['pred'] are your true and predicted labels\n",
    "cm = confusion_matrix(best_test_df['review_comment'], best_test_df['pred'])\n",
    "\n",
    "# Normalize confusion matrix row-wise\n",
    "cm_normalized = cm.astype('float') / cm.sum(axis=1)[:, np.newaxis]\n",
    "\n",
    "# Plot confusion matrix with adjusted parameters\n",
    "plt.figure(figsize=(8, 6))  # Adjust figure size as needed\n",
    "\n",
    "disp = ConfusionMatrixDisplay(confusion_matrix=cm_normalized, display_labels=['Non-toxic', 'Toxic'])\n",
    "\n",
    "# Plot with adjusted color intensity in Blues colormap\n",
    "disp.plot(cmap=plt.cm.Blues)\n",
    "\n",
    "plt.title('Confusion Matrix (Normalized)')\n",
    "plt.xlabel('Predicted label')\n",
    "plt.ylabel('True label')\n",
    "plt.xticks(rotation=45)\n",
    "plt.yticks(rotation=0)\n",
    "plt.tight_layout()\n",
    "\n",
    "plt.show()"
   ]
  },
  {
   "cell_type": "markdown",
   "id": "a36fe9e9-eec4-4520-b3d8-404ede182291",
   "metadata": {},
   "source": [
    "## 6.0 Toxic comment classifier function"
   ]
  },
  {
   "cell_type": "code",
   "execution_count": 146,
   "id": "4dfed770-75bd-4627-bf11-d765e4b3da95",
   "metadata": {
    "tags": []
   },
   "outputs": [],
   "source": [
    "# Just for the sake of demonstration we will be adding our self deprication/ joking negator\n",
    "negation_words_1 = [\"not\", \"no\", \"nor\", \"aren't\", \"i\", \"i'm\", \"myself\", \"we\", \"we're\"]\n",
    "negation_words_2 = [\"not a\", \"nt a\", \"not an\", \"nor a\", \"nor an\", \"aren't a\", \"aren't an\", \"i am\", \"i'm a\", \"i'm an\", \"myself am\", \"we are\", \"we also\", \"am a\"]\n",
    "negation_words_3 = [\"i am a\", \"i am an\", \"we are a\"]\n",
    "\n",
    "def preprocess_text(text):\n",
    "    # Convert the input text to lowercase\n",
    "    text = text.lower()\n",
    "\n",
    "    # Process phrases with spaces (negation_words_3)\n",
    "    for phrase in negation_words_3:\n",
    "        pattern = re.compile(re.escape(phrase) + r'\\s+(\\S)')\n",
    "        text = pattern.sub(lambda match: phrase.replace(' ', '') + match.group(1), text)\n",
    "\n",
    "    # Process phrases with spaces\n",
    "    for phrase in negation_words_2:\n",
    "        pattern = re.compile(re.escape(phrase) + r'\\s+(\\S)')\n",
    "        text = pattern.sub(lambda match: phrase.replace(' ', '') + match.group(1), text)\n",
    "    \n",
    "    # Process single-word phrases\n",
    "    for phrase in negation_words:\n",
    "        pattern = re.compile(re.escape(phrase) + r'\\s+(\\S)')\n",
    "        text = pattern.sub(lambda match: phrase.replace(' ', '') + match.group(1), text)\n",
    "        \n",
    "    return text"
   ]
  },
  {
   "cell_type": "code",
   "execution_count": 147,
   "id": "4f1ea444-10c3-46c9-91c7-99c445208341",
   "metadata": {
    "tags": []
   },
   "outputs": [],
   "source": [
    "def text_classifier(input_text):\n",
    "    \n",
    "    # Correct Typos\n",
    "    corrected_text = correct_sentence(input_text)\n",
    "    \n",
    "    # Create a DataFrame with a single row containing the input text\n",
    "    df = pd.DataFrame({'comment_text': [corrected_text]}, dtype=str)\n",
    "    \n",
    "    # Apply the preprocess_text function to the 'text_column' and replace it with the processed text\n",
    "    df['comment_text'] = df['comment_text'].apply(lambda x: preprocess_text(x))\n",
    "    \n",
    "    \n",
    "    # Clean th comments and make a new column\n",
    "    clean_comments(df)\n",
    "    \n",
    "    # Add score column\n",
    "    df['negative_score'] = df['cleaned'].apply(new_score_review)\n",
    "    \n",
    "    # Create a column with our predictions\n",
    "    df['pred'] = df['negative_score'].apply(make_pred)\n",
    "    \n",
    "    # Drop column 'comment_text'\n",
    "    df.drop(columns=['comment_text'], inplace=True)\n",
    "    \n",
    "    df['prediction'] = df['pred'].apply(lambda x: 'toxic' if x == 1 else 'non-toxic')\n",
    "    \n",
    "    return df"
   ]
  },
  {
   "cell_type": "code",
   "execution_count": 148,
   "id": "98f3afc6-daa6-4162-a053-45b5190eb6c5",
   "metadata": {},
   "outputs": [
    {
     "data": {
      "text/html": [
       "<div>\n",
       "<style scoped>\n",
       "    .dataframe tbody tr th:only-of-type {\n",
       "        vertical-align: middle;\n",
       "    }\n",
       "\n",
       "    .dataframe tbody tr th {\n",
       "        vertical-align: top;\n",
       "    }\n",
       "\n",
       "    .dataframe thead th {\n",
       "        text-align: right;\n",
       "    }\n",
       "</style>\n",
       "<table border=\"1\" class=\"dataframe\">\n",
       "  <thead>\n",
       "    <tr style=\"text-align: right;\">\n",
       "      <th></th>\n",
       "      <th>cleaned</th>\n",
       "      <th>negative_score</th>\n",
       "      <th>pred</th>\n",
       "      <th>prediction</th>\n",
       "    </tr>\n",
       "  </thead>\n",
       "  <tbody>\n",
       "    <tr>\n",
       "      <th>0</th>\n",
       "      <td>enter text</td>\n",
       "      <td>0.0</td>\n",
       "      <td>0</td>\n",
       "      <td>non-toxic</td>\n",
       "    </tr>\n",
       "  </tbody>\n",
       "</table>\n",
       "</div>"
      ],
      "text/plain": [
       "      cleaned  negative_score  pred prediction\n",
       "0  enter text             0.0     0  non-toxic"
      ]
     },
     "execution_count": 148,
     "metadata": {},
     "output_type": "execute_result"
    }
   ],
   "source": [
    "text_classifier(\"Enter Text\")"
   ]
  },
  {
   "cell_type": "markdown",
   "id": "d8390ef6-1aa6-4301-bbd8-0c44f7bfee40",
   "metadata": {},
   "source": [
    "## 7.0 Conclusions and Limitations"
   ]
  },
  {
   "cell_type": "markdown",
   "id": "6641eb64-7a44-4bee-880d-82d8f56d38ee",
   "metadata": {},
   "source": [
    "### 7.1 Conclusions on models"
   ]
  },
  {
   "cell_type": "markdown",
   "id": "71b2d03b-9956-403d-9993-4062058888b8",
   "metadata": {},
   "source": [
    "**Comparing all models**"
   ]
  },
  {
   "cell_type": "code",
   "execution_count": 152,
   "id": "b69170c0-81d5-4e29-ae14-cef0570ad4ac",
   "metadata": {},
   "outputs": [
    {
     "data": {
      "image/png": "[encoded data removed]",
      "text/plain": [
       "<Figure size 800x600 with 1 Axes>"
      ]
     },
     "metadata": {},
     "output_type": "display_data"
    }
   ],
   "source": [
    "# Data\n",
    "models = ['BERT', 'VADER', 'Custom model']\n",
    "percentages = [58.71, 72.58, 81.58]\n",
    "\n",
    "# Define colors using a colormap\n",
    "colors = plt.cm.Blues(np.linspace(0.3, 1.0, len(models)))  # Adjust the range (0.3, 1.0) as needed\n",
    "\n",
    "# Create a bar graph\n",
    "plt.figure(figsize=(8, 6))\n",
    "bars = plt.bar(models, percentages, color=colors)\n",
    "\n",
    "# Adding titles and labels\n",
    "plt.title('Comparison of Sentiment Analysis Models')\n",
    "plt.xlabel('Models')\n",
    "plt.ylabel('Accuracy (%)')\n",
    "\n",
    "# Display the percentages on top of the bars\n",
    "for bar, percentage in zip(bars, percentages):\n",
    "    plt.text(bar.get_x() + bar.get_width() / 2, bar.get_height() + 0.5, f'{percentage}%', ha='center', va='bottom')\n",
    "\n",
    "# Display the plot\n",
    "plt.ylim(0, 100)  # S Setting y-axis limit from 0 to 100\n",
    "plt.show()"
   ]
  },
  {
   "cell_type": "markdown",
   "id": "3e01741b-9558-4761-9692-283307f2710b",
   "metadata": {},
   "source": [
    "On testing, the custom model performed the best with an accuracy of 81.58%, which is 9% higher than the next best-performing VADER model."
   ]
  },
  {
   "cell_type": "markdown",
   "id": "61048d6c-2a1b-4e50-86d9-9ec092cd82db",
   "metadata": {},
   "source": [
    "**Custom model performance on test**"
   ]
  },
  {
   "cell_type": "code",
   "execution_count": 155,
   "id": "5129e358-481d-43e9-95db-1ecf3bf1ba52",
   "metadata": {
    "tags": []
   },
   "outputs": [
    {
     "data": {
      "text/plain": [
       "<Figure size 800x600 with 0 Axes>"
      ]
     },
     "metadata": {},
     "output_type": "display_data"
    },
    {
     "data": {
      "image/png": "[encoded data removed]",
      "text/plain": [
       "<Figure size 640x480 with 2 Axes>"
      ]
     },
     "metadata": {},
     "output_type": "display_data"
    }
   ],
   "source": [
    "# Confusion matrix for custom model\n",
    "cm_matrix\n",
    "plt.figure(figsize=(8, 6))  # Adjust figure size as needed\n",
    "\n",
    "disp = ConfusionMatrixDisplay(confusion_matrix=cm_matrix, display_labels=['Non-toxic', 'Toxic'])\n",
    "\n",
    "# Plot with blue color scheme\n",
    "disp.plot(cmap=plt.cm.Blues)\n",
    "\n",
    "plt.title('Confusion Matrix')\n",
    "plt.xlabel('Predicted label')\n",
    "plt.ylabel('True label')\n",
    "plt.xticks(rotation=45)\n",
    "plt.yticks(rotation=0)\n",
    "plt.tight_layout()\n",
    "\n",
    "plt.show()"
   ]
  },
  {
   "cell_type": "markdown",
   "id": "9f852d9b-64a2-49fa-bc6d-b04c5e7f62b7",
   "metadata": {},
   "source": [
    "The custom model demonstrated even higher accuracy on the test set, achieving 87.85%. Besides accuracy, the next best performing metric was recall at 79.1%. This is crucial and something we want to maximise as it minimises false negatives, ensuring that toxic behavior is not overlooked. False positives (FP), on the other hand, are less concerning since reported comments undergo human review to confirm toxicity and apply appropriate actions.\n",
    "\n",
    "The difference in scores for accuracy and recall may be due to the fact that the model is better at estimating true negatives. One potential approach to address this is adjusting the threshold, although this might lead to a trade-off where increasing recall could potentially lead to a decrease in accuracy."
   ]
  },
  {
   "cell_type": "markdown",
   "id": "e20fc23f-2bc7-4441-bc6c-da4cd724c6fb",
   "metadata": {
    "tags": []
   },
   "source": [
    "### 7.2 Limitations"
   ]
  },
  {
   "cell_type": "markdown",
   "id": "bc244f00-2f95-4881-8a1b-49cc97e36167",
   "metadata": {},
   "source": [
    "- Unable to complete BERT fine-tuning (Long runtime).\n",
    "- The 79% recall could be improved, especially considering the model's 88% accuracy. This suggests the model could better classify toxic comments as toxic.\n",
    "- The model appears to be better at predicting false results versus true.\n",
    "- The dataset was pulled from Wikipedia's talk page edits. Ideally, data from various social media platforms (e.g., Instagram, X, Facebook, Reddit, etc.) should be used to create a more representative and applicable model for these platforms."
   ]
  }
 ],
 "metadata": {
  "kernelspec": {
   "display_name": "Python 3 (ipykernel)",
   "language": "python",
   "name": "python3"
  },
  "language_info": {
   "codemirror_mode": {
    "name": "ipython",
    "version": 3
   },
   "file_extension": ".py",
   "mimetype": "text/x-python",
   "name": "python",
   "nbconvert_exporter": "python",
   "pygments_lexer": "ipython3",
   "version": "3.11.7"
  }
 },
 "nbformat": 4,
 "nbformat_minor": 5
}
