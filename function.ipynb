{
 "cells": [
  {
   "cell_type": "markdown",
   "id": "638610cd-930d-4f2b-a1fb-439915b13d81",
   "metadata": {
    "tags": []
   },
   "source": [
    "# <center>Toxic or Tame?<br> Classifying Chat Comments with NLP</center>"
   ]
  },
  {
   "cell_type": "markdown",
   "id": "c5453942-044b-41fe-a96b-ea445bd3bb7a",
   "metadata": {},
   "source": [
    "<div style=\"text-align: center;\">\n",
    "  <img src=\"https://plus.unsplash.com/premium_photo-1681487872232-fa622a6dd59e?q=80&w=2080&auto=format&fit=crop&ixlib=rb-4.0.3&ixid=M3wxMjA3fDB8MHxwaG90by1wYWdlfHx8fGVufDB8fHx8fA%3D%3D\" alt=\"A chatbox\" style=\"width: 350px;\">\n",
    "</div>"
   ]
  },
  {
   "cell_type": "code",
   "execution_count": null,
   "id": "0e321611-4312-4801-a554-395e80a75d75",
   "metadata": {
    "tags": []
   },
   "outputs": [],
   "source": [
    "%run capstone_project.ipynb"
   ]
  },
  {
   "cell_type": "markdown",
   "id": "cfd32db0-cfd0-41e5-a49f-5c9ac7907514",
   "metadata": {},
   "source": [
    "# text_classifier Function"
   ]
  },
  {
   "cell_type": "code",
   "execution_count": 13,
   "id": "d5677170-34ac-4c4a-b8f5-85e514a1c128",
   "metadata": {},
   "outputs": [
    {
     "data": {
      "text/html": [
       "<div>\n",
       "<style scoped>\n",
       "    .dataframe tbody tr th:only-of-type {\n",
       "        vertical-align: middle;\n",
       "    }\n",
       "\n",
       "    .dataframe tbody tr th {\n",
       "        vertical-align: top;\n",
       "    }\n",
       "\n",
       "    .dataframe thead th {\n",
       "        text-align: right;\n",
       "    }\n",
       "</style>\n",
       "<table border=\"1\" class=\"dataframe\">\n",
       "  <thead>\n",
       "    <tr style=\"text-align: right;\">\n",
       "      <th></th>\n",
       "      <th>cleaned</th>\n",
       "      <th>negative_score</th>\n",
       "      <th>pred</th>\n",
       "      <th>prediction</th>\n",
       "    </tr>\n",
       "  </thead>\n",
       "  <tbody>\n",
       "    <tr>\n",
       "      <th>0</th>\n",
       "      <td>enter text here</td>\n",
       "      <td>0.0</td>\n",
       "      <td>0</td>\n",
       "      <td>non-toxic</td>\n",
       "    </tr>\n",
       "  </tbody>\n",
       "</table>\n",
       "</div>"
      ],
      "text/plain": [
       "           cleaned  negative_score  pred prediction\n",
       "0  enter text here             0.0     0  non-toxic"
      ]
     },
     "execution_count": 13,
     "metadata": {},
     "output_type": "execute_result"
    }
   ],
   "source": [
    "text_classifier(\"Enter Text Here\")"
   ]
  },
  {
   "cell_type": "code",
   "execution_count": 14,
   "id": "3f440a4e-81b5-4f07-b33c-4d8bbcb0d922",
   "metadata": {
    "tags": []
   },
   "outputs": [],
   "source": [
    "pd.set_option('display.max_colwidth', None)\n",
    "pd.reset_option('display.max_colwidth')"
   ]
  }
 ],
 "metadata": {
  "kernelspec": {
   "display_name": "Python 3 (ipykernel)",
   "language": "python",
   "name": "python3"
  },
  "language_info": {
   "codemirror_mode": {
    "name": "ipython",
    "version": 3
   },
   "file_extension": ".py",
   "mimetype": "text/x-python",
   "name": "python",
   "nbconvert_exporter": "python",
   "pygments_lexer": "ipython3",
   "version": "3.11.7"
  }
 },
 "nbformat": 4,
 "nbformat_minor": 5
}
